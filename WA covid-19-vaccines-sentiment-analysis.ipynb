{
 "cells": [
  {
   "cell_type": "markdown",
   "metadata": {},
   "source": [
    "# COVID-19 Vaccines Sentiment Analysis\n",
    "------------------"
   ]
  },
  {
   "cell_type": "markdown",
   "metadata": {},
   "source": [
    "For this notebook, we will be doing a sentiment analysis for COVID-19 vaccines using data from COVID-19 All Vaccines Tweets, collected using tweepy Python package to access Twitter API. For each of the vaccine I use relevant search term (most frequently used in Twitter to refer to the respective vaccine).\n",
    "\n",
    "Before we start, we will be importing the necessary libraries for our analysis. "
   ]
  },
  {
   "cell_type": "code",
   "execution_count": 1,
   "metadata": {
    "execution": {
     "iopub.execute_input": "2021-10-24T11:01:16.682184Z",
     "iopub.status.busy": "2021-10-24T11:01:16.681654Z",
     "iopub.status.idle": "2021-10-24T11:01:20.797561Z",
     "shell.execute_reply": "2021-10-24T11:01:20.796847Z",
     "shell.execute_reply.started": "2021-10-24T11:01:16.682106Z"
    }
   },
   "outputs": [],
   "source": [
    "import pandas as pd \n",
    "import numpy as np \n",
    "\n",
    "import matplotlib.pyplot as plt \n",
    "import re\n",
    "import string\n",
    "\n",
    "import nltk\n",
    "from nltk.tokenize import sent_tokenize\n",
    "from nltk.corpus import words\n",
    "from nltk.corpus import stopwords\n",
    "from nltk.tokenize import word_tokenize\n",
    "from nltk.stem import WordNetLemmatizer\n",
    "from nltk.stem import PorterStemmer\n",
    "from nltk.sentiment.vader import SentimentIntensityAnalyzer\n",
    "from nltk.sentiment.util import *\n",
    "\n",
    "from collections import Counter\n",
    "\n",
    "from matplotlib import pyplot as plt\n",
    "from matplotlib import ticker\n",
    "import seaborn as sns\n",
    "import plotly.express as px\n",
    "\n",
    "sns.set(style=\"darkgrid\")"
   ]
  },
  {
   "cell_type": "markdown",
   "metadata": {},
   "source": [
    "## Importing the Dataset"
   ]
  },
  {
   "cell_type": "markdown",
   "metadata": {},
   "source": [
    "Now we will be importing the dataset from the COVID-19 All Vaccines Tweets. "
   ]
  },
  {
   "cell_type": "code",
   "execution_count": 21,
   "metadata": {
    "execution": {
     "iopub.execute_input": "2021-10-24T11:01:54.958652Z",
     "iopub.status.busy": "2021-10-24T11:01:54.958365Z",
     "iopub.status.idle": "2021-10-24T11:01:57.369376Z",
     "shell.execute_reply": "2021-10-24T11:01:57.368675Z",
     "shell.execute_reply.started": "2021-10-24T11:01:54.958624Z"
    }
   },
   "outputs": [
    {
     "data": {
      "text/html": [
       "<div>\n",
       "<style scoped>\n",
       "    .dataframe tbody tr th:only-of-type {\n",
       "        vertical-align: middle;\n",
       "    }\n",
       "\n",
       "    .dataframe tbody tr th {\n",
       "        vertical-align: top;\n",
       "    }\n",
       "\n",
       "    .dataframe thead th {\n",
       "        text-align: right;\n",
       "    }\n",
       "</style>\n",
       "<table border=\"1\" class=\"dataframe\">\n",
       "  <thead>\n",
       "    <tr style=\"text-align: right;\">\n",
       "      <th></th>\n",
       "      <th>Datetime</th>\n",
       "      <th>Text</th>\n",
       "      <th>Location</th>\n",
       "      <th>tweet</th>\n",
       "    </tr>\n",
       "  </thead>\n",
       "  <tbody>\n",
       "    <tr>\n",
       "      <th>0</th>\n",
       "      <td>2020-10-30 23:59:52+00:00</td>\n",
       "      <td>1/2 This is what I said way back in March. Gla...</td>\n",
       "      <td>Treaty 7 Land</td>\n",
       "      <td>This is what I said way back in March  Gla...</td>\n",
       "    </tr>\n",
       "    <tr>\n",
       "      <th>1</th>\n",
       "      <td>2020-10-30 23:59:38+00:00</td>\n",
       "      <td>@KCBlues_ @hann4hlew We wait until the vaccine...</td>\n",
       "      <td>Stratford-Upon-Avon, England</td>\n",
       "      <td>KCBlues   hann hlew We wait until the vaccine...</td>\n",
       "    </tr>\n",
       "    <tr>\n",
       "      <th>2</th>\n",
       "      <td>2020-10-30 23:59:38+00:00</td>\n",
       "      <td>Everyone we talk to are not discussing COVID, ...</td>\n",
       "      <td>NaN</td>\n",
       "      <td>Everyone we talk to are not discussing COVID  ...</td>\n",
       "    </tr>\n",
       "    <tr>\n",
       "      <th>3</th>\n",
       "      <td>2020-10-30 23:59:04+00:00</td>\n",
       "      <td>Considering Emotion in COVID-19 Vaccine Commun...</td>\n",
       "      <td>Fayetteville, AR</td>\n",
       "      <td>Considering Emotion in COVID    Vaccine Commun...</td>\n",
       "    </tr>\n",
       "    <tr>\n",
       "      <th>4</th>\n",
       "      <td>2020-10-30 23:58:52+00:00</td>\n",
       "      <td>@realDonaldTrump Did we shut down the entire c...</td>\n",
       "      <td>NaN</td>\n",
       "      <td>realDonaldTrump Did we shut down the entire c...</td>\n",
       "    </tr>\n",
       "  </tbody>\n",
       "</table>\n",
       "</div>"
      ],
      "text/plain": [
       "                    Datetime  \\\n",
       "0  2020-10-30 23:59:52+00:00   \n",
       "1  2020-10-30 23:59:38+00:00   \n",
       "2  2020-10-30 23:59:38+00:00   \n",
       "3  2020-10-30 23:59:04+00:00   \n",
       "4  2020-10-30 23:58:52+00:00   \n",
       "\n",
       "                                                Text  \\\n",
       "0  1/2 This is what I said way back in March. Gla...   \n",
       "1  @KCBlues_ @hann4hlew We wait until the vaccine...   \n",
       "2  Everyone we talk to are not discussing COVID, ...   \n",
       "3  Considering Emotion in COVID-19 Vaccine Commun...   \n",
       "4  @realDonaldTrump Did we shut down the entire c...   \n",
       "\n",
       "                       Location  \\\n",
       "0                 Treaty 7 Land   \n",
       "1  Stratford-Upon-Avon, England   \n",
       "2                           NaN   \n",
       "3              Fayetteville, AR   \n",
       "4                           NaN   \n",
       "\n",
       "                                               tweet  \n",
       "0      This is what I said way back in March  Gla...  \n",
       "1   KCBlues   hann hlew We wait until the vaccine...  \n",
       "2  Everyone we talk to are not discussing COVID  ...  \n",
       "3  Considering Emotion in COVID    Vaccine Commun...  \n",
       "4   realDonaldTrump Did we shut down the entire c...  "
      ]
     },
     "execution_count": 21,
     "metadata": {},
     "output_type": "execute_result"
    }
   ],
   "source": [
    "df = pd.read_csv(\"cleaned_tweets_2020.10.csv\")\n",
    "df.head()"
   ]
  },
  {
   "cell_type": "markdown",
   "metadata": {},
   "source": [
    "Now that we have imported the dataset, we will check the shape of our dataset, to view the number of rows and column."
   ]
  },
  {
   "cell_type": "code",
   "execution_count": 22,
   "metadata": {
    "execution": {
     "iopub.execute_input": "2021-10-24T11:02:30.441392Z",
     "iopub.status.busy": "2021-10-24T11:02:30.440657Z",
     "iopub.status.idle": "2021-10-24T11:02:30.447362Z",
     "shell.execute_reply": "2021-10-24T11:02:30.446431Z",
     "shell.execute_reply.started": "2021-10-24T11:02:30.441348Z"
    },
    "scrolled": true
   },
   "outputs": [
    {
     "data": {
      "text/plain": [
       "(30030, 4)"
      ]
     },
     "execution_count": 22,
     "metadata": {},
     "output_type": "execute_result"
    }
   ],
   "source": [
    "df.shape"
   ]
  },
  {
   "cell_type": "markdown",
   "metadata": {},
   "source": [
    "We can see that our dataset have 189,054 rows and 16 columns. But since we would not need all the columns, we will now select the important ones for our analysis, and create a new dataframe. "
   ]
  },
  {
   "cell_type": "markdown",
   "metadata": {},
   "source": [
    "Now that we have a new dataset with the important data for our analysis, we need to check the data types of the dataframe. "
   ]
  },
  {
   "cell_type": "code",
   "execution_count": 23,
   "metadata": {
    "execution": {
     "iopub.execute_input": "2021-10-24T11:05:24.034864Z",
     "iopub.status.busy": "2021-10-24T11:05:24.034185Z",
     "iopub.status.idle": "2021-10-24T11:05:24.115482Z",
     "shell.execute_reply": "2021-10-24T11:05:24.114822Z",
     "shell.execute_reply.started": "2021-10-24T11:05:24.034831Z"
    }
   },
   "outputs": [
    {
     "name": "stdout",
     "output_type": "stream",
     "text": [
      "<class 'pandas.core.frame.DataFrame'>\n",
      "RangeIndex: 30030 entries, 0 to 30029\n",
      "Data columns (total 4 columns):\n",
      " #   Column    Non-Null Count  Dtype \n",
      "---  ------    --------------  ----- \n",
      " 0   Datetime  30030 non-null  object\n",
      " 1   Text      30030 non-null  object\n",
      " 2   Location  21272 non-null  object\n",
      " 3   tweet     30030 non-null  object\n",
      "dtypes: object(4)\n",
      "memory usage: 938.6+ KB\n"
     ]
    }
   ],
   "source": [
    "df.info()"
   ]
  },
  {
   "cell_type": "markdown",
   "metadata": {},
   "source": [
    "We can see that all three of our columns have the same data types. But for the date column, we can see that it is specific to the second of the tweet. Since we wouldn't need such an accurate data for our analysis, we will only take the day, month, and year of the tweet. "
   ]
  },
  {
   "cell_type": "code",
   "execution_count": 24,
   "metadata": {
    "execution": {
     "iopub.execute_input": "2021-10-24T11:05:36.536417Z",
     "iopub.status.busy": "2021-10-24T11:05:36.536163Z",
     "iopub.status.idle": "2021-10-24T11:05:36.896365Z",
     "shell.execute_reply": "2021-10-24T11:05:36.895688Z",
     "shell.execute_reply.started": "2021-10-24T11:05:36.536390Z"
    }
   },
   "outputs": [
    {
     "data": {
      "text/html": [
       "<div>\n",
       "<style scoped>\n",
       "    .dataframe tbody tr th:only-of-type {\n",
       "        vertical-align: middle;\n",
       "    }\n",
       "\n",
       "    .dataframe tbody tr th {\n",
       "        vertical-align: top;\n",
       "    }\n",
       "\n",
       "    .dataframe thead th {\n",
       "        text-align: right;\n",
       "    }\n",
       "</style>\n",
       "<table border=\"1\" class=\"dataframe\">\n",
       "  <thead>\n",
       "    <tr style=\"text-align: right;\">\n",
       "      <th></th>\n",
       "      <th>Datetime</th>\n",
       "      <th>Text</th>\n",
       "      <th>Location</th>\n",
       "      <th>tweet</th>\n",
       "    </tr>\n",
       "  </thead>\n",
       "  <tbody>\n",
       "    <tr>\n",
       "      <th>0</th>\n",
       "      <td>2020-10-30</td>\n",
       "      <td>1/2 This is what I said way back in March. Gla...</td>\n",
       "      <td>Treaty 7 Land</td>\n",
       "      <td>This is what I said way back in March  Gla...</td>\n",
       "    </tr>\n",
       "    <tr>\n",
       "      <th>1</th>\n",
       "      <td>2020-10-30</td>\n",
       "      <td>@KCBlues_ @hann4hlew We wait until the vaccine...</td>\n",
       "      <td>Stratford-Upon-Avon, England</td>\n",
       "      <td>KCBlues   hann hlew We wait until the vaccine...</td>\n",
       "    </tr>\n",
       "    <tr>\n",
       "      <th>2</th>\n",
       "      <td>2020-10-30</td>\n",
       "      <td>Everyone we talk to are not discussing COVID, ...</td>\n",
       "      <td>NaN</td>\n",
       "      <td>Everyone we talk to are not discussing COVID  ...</td>\n",
       "    </tr>\n",
       "    <tr>\n",
       "      <th>3</th>\n",
       "      <td>2020-10-30</td>\n",
       "      <td>Considering Emotion in COVID-19 Vaccine Commun...</td>\n",
       "      <td>Fayetteville, AR</td>\n",
       "      <td>Considering Emotion in COVID    Vaccine Commun...</td>\n",
       "    </tr>\n",
       "    <tr>\n",
       "      <th>4</th>\n",
       "      <td>2020-10-30</td>\n",
       "      <td>@realDonaldTrump Did we shut down the entire c...</td>\n",
       "      <td>NaN</td>\n",
       "      <td>realDonaldTrump Did we shut down the entire c...</td>\n",
       "    </tr>\n",
       "    <tr>\n",
       "      <th>...</th>\n",
       "      <td>...</td>\n",
       "      <td>...</td>\n",
       "      <td>...</td>\n",
       "      <td>...</td>\n",
       "    </tr>\n",
       "    <tr>\n",
       "      <th>30025</th>\n",
       "      <td>2020-10-01</td>\n",
       "      <td>FDA expands probe into safety of AstraZeneca's...</td>\n",
       "      <td>NaN</td>\n",
       "      <td>FDA expands probe into safety of AstraZeneca s...</td>\n",
       "    </tr>\n",
       "    <tr>\n",
       "      <th>30026</th>\n",
       "      <td>2020-10-01</td>\n",
       "      <td>Small and large models compared to human COVID...</td>\n",
       "      <td>Cincinnati, OH</td>\n",
       "      <td>Small and large models compared to human COVID...</td>\n",
       "    </tr>\n",
       "    <tr>\n",
       "      <th>30027</th>\n",
       "      <td>2020-10-01</td>\n",
       "      <td>Many unexpected loss during covid. Hope this O...</td>\n",
       "      <td>Ahmedabad, India</td>\n",
       "      <td>Many unexpected loss during covid  Hope this O...</td>\n",
       "    </tr>\n",
       "    <tr>\n",
       "      <th>30028</th>\n",
       "      <td>2020-10-01</td>\n",
       "      <td>Covid: Vaccine will 'not return life to normal...</td>\n",
       "      <td>Global</td>\n",
       "      <td>Covid  Vaccine will  not return life to normal...</td>\n",
       "    </tr>\n",
       "    <tr>\n",
       "      <th>30029</th>\n",
       "      <td>2020-10-01</td>\n",
       "      <td>SIUE’s Butler Sole Pharmacist Serving on Natio...</td>\n",
       "      <td>Edwardsville, IL</td>\n",
       "      <td>SIUE s Butler Sole Pharmacist Serving on Natio...</td>\n",
       "    </tr>\n",
       "  </tbody>\n",
       "</table>\n",
       "<p>30030 rows × 4 columns</p>\n",
       "</div>"
      ],
      "text/plain": [
       "         Datetime                                               Text  \\\n",
       "0      2020-10-30  1/2 This is what I said way back in March. Gla...   \n",
       "1      2020-10-30  @KCBlues_ @hann4hlew We wait until the vaccine...   \n",
       "2      2020-10-30  Everyone we talk to are not discussing COVID, ...   \n",
       "3      2020-10-30  Considering Emotion in COVID-19 Vaccine Commun...   \n",
       "4      2020-10-30  @realDonaldTrump Did we shut down the entire c...   \n",
       "...           ...                                                ...   \n",
       "30025  2020-10-01  FDA expands probe into safety of AstraZeneca's...   \n",
       "30026  2020-10-01  Small and large models compared to human COVID...   \n",
       "30027  2020-10-01  Many unexpected loss during covid. Hope this O...   \n",
       "30028  2020-10-01  Covid: Vaccine will 'not return life to normal...   \n",
       "30029  2020-10-01  SIUE’s Butler Sole Pharmacist Serving on Natio...   \n",
       "\n",
       "                           Location  \\\n",
       "0                     Treaty 7 Land   \n",
       "1      Stratford-Upon-Avon, England   \n",
       "2                               NaN   \n",
       "3                  Fayetteville, AR   \n",
       "4                               NaN   \n",
       "...                             ...   \n",
       "30025                           NaN   \n",
       "30026                Cincinnati, OH   \n",
       "30027              Ahmedabad, India   \n",
       "30028                        Global   \n",
       "30029              Edwardsville, IL   \n",
       "\n",
       "                                                   tweet  \n",
       "0          This is what I said way back in March  Gla...  \n",
       "1       KCBlues   hann hlew We wait until the vaccine...  \n",
       "2      Everyone we talk to are not discussing COVID  ...  \n",
       "3      Considering Emotion in COVID    Vaccine Commun...  \n",
       "4       realDonaldTrump Did we shut down the entire c...  \n",
       "...                                                  ...  \n",
       "30025  FDA expands probe into safety of AstraZeneca s...  \n",
       "30026  Small and large models compared to human COVID...  \n",
       "30027  Many unexpected loss during covid  Hope this O...  \n",
       "30028  Covid  Vaccine will  not return life to normal...  \n",
       "30029  SIUE s Butler Sole Pharmacist Serving on Natio...  \n",
       "\n",
       "[30030 rows x 4 columns]"
      ]
     },
     "execution_count": 24,
     "metadata": {},
     "output_type": "execute_result"
    }
   ],
   "source": [
    "df.Datetime = pd.to_datetime(df.Datetime).dt.date\n",
    "df"
   ]
  },
  {
   "cell_type": "markdown",
   "metadata": {},
   "source": [
    "Now that we have finished importing our dataset, we can continue to process our data for analysis. "
   ]
  },
  {
   "cell_type": "markdown",
   "metadata": {},
   "source": [
    "## Processing the Data"
   ]
  },
  {
   "cell_type": "markdown",
   "metadata": {},
   "source": [
    "For processing our data, we will need to select the text column of our dataset. "
   ]
  },
  {
   "cell_type": "code",
   "execution_count": 25,
   "metadata": {
    "execution": {
     "iopub.execute_input": "2021-10-24T11:05:44.703641Z",
     "iopub.status.busy": "2021-10-24T11:05:44.703366Z",
     "iopub.status.idle": "2021-10-24T11:05:44.712111Z",
     "shell.execute_reply": "2021-10-24T11:05:44.711362Z",
     "shell.execute_reply.started": "2021-10-24T11:05:44.703605Z"
    }
   },
   "outputs": [
    {
     "data": {
      "text/plain": [
       "0        This is what I said way back in March  Gla...\n",
       "1     KCBlues   hann hlew We wait until the vaccine...\n",
       "2    Everyone we talk to are not discussing COVID  ...\n",
       "3    Considering Emotion in COVID    Vaccine Commun...\n",
       "4     realDonaldTrump Did we shut down the entire c...\n",
       "Name: tweet, dtype: object"
      ]
     },
     "execution_count": 25,
     "metadata": {},
     "output_type": "execute_result"
    }
   ],
   "source": [
    "texts = df['tweet']\n",
    "texts.head()"
   ]
  },
  {
   "cell_type": "markdown",
   "metadata": {},
   "source": [
    "The first step of our processing would be removing the url from all the tweets, since we don't need them. after that, we will be converting all of the text into lower cases for easier analysis. Lastly, we will also remove all punctuations from the texts. "
   ]
  },
  {
   "cell_type": "code",
   "execution_count": 26,
   "metadata": {
    "execution": {
     "iopub.execute_input": "2021-10-24T11:09:18.659159Z",
     "iopub.status.busy": "2021-10-24T11:09:18.658881Z",
     "iopub.status.idle": "2021-10-24T11:09:19.128346Z",
     "shell.execute_reply": "2021-10-24T11:09:19.127668Z",
     "shell.execute_reply.started": "2021-10-24T11:09:18.659131Z"
    }
   },
   "outputs": [
    {
     "data": {
      "text/plain": [
       "0        This is what I said way back in March  Gla...\n",
       "1     KCBlues   hann hlew We wait until the vaccine...\n",
       "2    Everyone we talk to are not discussing COVID  ...\n",
       "3    Considering Emotion in COVID    Vaccine Commun...\n",
       "4     realDonaldTrump Did we shut down the entire c...\n",
       "Name: tweet, dtype: object"
      ]
     },
     "execution_count": 26,
     "metadata": {},
     "output_type": "execute_result"
    }
   ],
   "source": [
    "remove_url = lambda x: re.sub(r'https\\S+', '', str(x))\n",
    "texts_lr = texts.apply(remove_url)\n",
    "texts_lr.head()"
   ]
  },
  {
   "cell_type": "code",
   "execution_count": 27,
   "metadata": {
    "execution": {
     "iopub.execute_input": "2021-10-24T11:09:36.356502Z",
     "iopub.status.busy": "2021-10-24T11:09:36.356244Z",
     "iopub.status.idle": "2021-10-24T11:09:36.541178Z",
     "shell.execute_reply": "2021-10-24T11:09:36.540489Z",
     "shell.execute_reply.started": "2021-10-24T11:09:36.356475Z"
    },
    "scrolled": true
   },
   "outputs": [
    {
     "data": {
      "text/plain": [
       "0        this is what i said way back in march  gla...\n",
       "1     kcblues   hann hlew we wait until the vaccine...\n",
       "2    everyone we talk to are not discussing covid  ...\n",
       "3    considering emotion in covid    vaccine commun...\n",
       "4     realdonaldtrump did we shut down the entire c...\n",
       "Name: tweet, dtype: object"
      ]
     },
     "execution_count": 27,
     "metadata": {},
     "output_type": "execute_result"
    }
   ],
   "source": [
    "to_lower = lambda x : x.lower()\n",
    "texts_lc = texts_lr.apply(to_lower)\n",
    "texts_lc.head()"
   ]
  },
  {
   "cell_type": "code",
   "execution_count": 28,
   "metadata": {
    "execution": {
     "iopub.execute_input": "2021-10-24T11:09:50.001319Z",
     "iopub.status.busy": "2021-10-24T11:09:50.001060Z",
     "iopub.status.idle": "2021-10-24T11:09:51.996449Z",
     "shell.execute_reply": "2021-10-24T11:09:51.995813Z",
     "shell.execute_reply.started": "2021-10-24T11:09:50.001291Z"
    }
   },
   "outputs": [
    {
     "data": {
      "text/plain": [
       "0            this is what i said way back in march  gla...\n",
       "1         kcblues   hann hlew we wait until the vaccine...\n",
       "2        everyone we talk to are not discussing covid  ...\n",
       "3        considering emotion in covid    vaccine commun...\n",
       "4         realdonaldtrump did we shut down the entire c...\n",
       "                               ...                        \n",
       "30025    fda expands probe into safety of astrazeneca s...\n",
       "30026    small and large models compared to human covid...\n",
       "30027    many unexpected loss during covid  hope this o...\n",
       "30028    covid  vaccine will  not return life to normal...\n",
       "30029    siue s butler sole pharmacist serving on natio...\n",
       "Name: tweet, Length: 30030, dtype: object"
      ]
     },
     "execution_count": 28,
     "metadata": {},
     "output_type": "execute_result"
    }
   ],
   "source": [
    "rmv_pcs = lambda x : x.translate(str.maketrans('', '', string.punctuation))\n",
    "texts_pcs = texts_lc.apply(rmv_pcs)\n",
    "texts_pcs"
   ]
  },
  {
   "cell_type": "markdown",
   "metadata": {},
   "source": [
    "Now that we have remove all the unnecessary characters from our text, we will now remove the stopwords from the text. A stop word is a commonly used word (such as “the”, “a”, “an”, “in”) that a search engine has been programmed to ignore, both when indexing entries for searching and when retrieving them as the result of a search query. This will reduce the noise in our analysis. "
   ]
  },
  {
   "cell_type": "code",
   "execution_count": 29,
   "metadata": {
    "execution": {
     "iopub.execute_input": "2021-10-24T11:09:56.674626Z",
     "iopub.status.busy": "2021-10-24T11:09:56.673695Z",
     "iopub.status.idle": "2021-10-24T11:09:57.478893Z",
     "shell.execute_reply": "2021-10-24T11:09:57.478058Z",
     "shell.execute_reply.started": "2021-10-24T11:09:56.674577Z"
    }
   },
   "outputs": [
    {
     "data": {
      "text/plain": [
       "0    said way back march glad see research gaining ...\n",
       "1    kcblues hann hlew wait vaccine solution come l...\n",
       "2    everyone talk discussing discussing economy po...\n",
       "3    considering emotion vaccine communication addr...\n",
       "4    realdonaldtrump shut entire country flatten cu...\n",
       "Name: tweet, dtype: object"
      ]
     },
     "execution_count": 29,
     "metadata": {},
     "output_type": "execute_result"
    }
   ],
   "source": [
    "update_words = ['covid','amp', 'coronavirus', 'covid19','https']\n",
    "stop_words = set(stopwords.words('english'))\n",
    "stop_words.update(update_words)\n",
    "\n",
    "remove_words = lambda x : ' '.join([word for word in x.split() if word not in stop_words])\n",
    "texts_rs = texts_pcs.apply(remove_words)\n",
    "texts_rs.head()"
   ]
  },
  {
   "cell_type": "markdown",
   "metadata": {},
   "source": [
    "## Text Analysis"
   ]
  },
  {
   "cell_type": "markdown",
   "metadata": {},
   "source": [
    "Before we analyze the sentiments of the tweets, we will be doing an analysis on the text itself. First, we will be listing all of the words on each of the tweets, and also visualizing it. The purpose is to see the most common words from all of the tweets. "
   ]
  },
  {
   "cell_type": "code",
   "execution_count": 30,
   "metadata": {
    "execution": {
     "iopub.execute_input": "2021-10-24T11:10:33.821312Z",
     "iopub.status.busy": "2021-10-24T11:10:33.820711Z",
     "iopub.status.idle": "2021-10-24T11:10:34.172313Z",
     "shell.execute_reply": "2021-10-24T11:10:34.171594Z",
     "shell.execute_reply.started": "2021-10-24T11:10:33.821275Z"
    }
   },
   "outputs": [
    {
     "data": {
      "text/plain": [
       "['said',\n",
       " 'way',\n",
       " 'back',\n",
       " 'march',\n",
       " 'glad',\n",
       " 'see',\n",
       " 'research',\n",
       " 'gaining',\n",
       " 'momentum',\n",
       " 'effective']"
      ]
     },
     "execution_count": 30,
     "metadata": {},
     "output_type": "execute_result"
    }
   ],
   "source": [
    "word_list = [word for line in texts_rs for word in line.split()]\n",
    "word_list[:10]"
   ]
  },
  {
   "cell_type": "code",
   "execution_count": 31,
   "metadata": {
    "execution": {
     "iopub.execute_input": "2021-10-24T11:11:28.260849Z",
     "iopub.status.busy": "2021-10-24T11:11:28.260584Z",
     "iopub.status.idle": "2021-10-24T11:11:28.655840Z",
     "shell.execute_reply": "2021-10-24T11:11:28.655172Z",
     "shell.execute_reply.started": "2021-10-24T11:11:28.260820Z"
    }
   },
   "outputs": [
    {
     "data": {
      "application/vnd.plotly.v1+json": {
       "config": {
        "plotlyServerURL": "https://plot.ly"
       },
       "data": [
        {
         "alignmentgroup": "True",
         "hovertemplate": "word=%{x}<br>frequency=%{y}<extra></extra>",
         "legendgroup": "",
         "marker": {
          "color": "#636efa",
          "pattern": {
           "shape": ""
          }
         },
         "name": "",
         "offsetgroup": "",
         "orientation": "v",
         "showlegend": false,
         "textposition": "auto",
         "type": "bar",
         "x": [
          "vaccine",
          "co",
          "vaccines",
          "trump",
          "flu",
          "get",
          "people",
          "us",
          "trials",
          "via",
          "trial",
          "would",
          "one",
          "virus",
          "like",
          "health",
          "says",
          "fda",
          "take",
          "going",
          "new",
          "could",
          "year",
          "first",
          "know",
          "need",
          "news",
          "plan",
          "still",
          "u",
          "realdonaldtrump",
          "may",
          "immunity",
          "safe",
          "time",
          "available",
          "even",
          "said",
          "world",
          "free",
          "everyone",
          "public",
          "pandemic",
          "say",
          "make",
          "pfizer",
          "think",
          "effective",
          "distribution",
          "johnson"
         ],
         "xaxis": "x",
         "y": [
          28211,
          20151,
          5938,
          3724,
          3498,
          3264,
          2888,
          2089,
          2002,
          1962,
          1734,
          1722,
          1556,
          1523,
          1487,
          1485,
          1449,
          1390,
          1366,
          1338,
          1311,
          1307,
          1279,
          1237,
          1221,
          1194,
          1189,
          1181,
          1168,
          1158,
          1136,
          1110,
          1069,
          1067,
          1066,
          1040,
          1037,
          1010,
          991,
          960,
          945,
          925,
          914,
          913,
          887,
          883,
          854,
          852,
          850,
          829
         ],
         "yaxis": "y"
        }
       ],
       "layout": {
        "barmode": "relative",
        "legend": {
         "tracegroupgap": 0
        },
        "template": {
         "data": {
          "bar": [
           {
            "error_x": {
             "color": "#2a3f5f"
            },
            "error_y": {
             "color": "#2a3f5f"
            },
            "marker": {
             "line": {
              "color": "#E5ECF6",
              "width": 0.5
             },
             "pattern": {
              "fillmode": "overlay",
              "size": 10,
              "solidity": 0.2
             }
            },
            "type": "bar"
           }
          ],
          "barpolar": [
           {
            "marker": {
             "line": {
              "color": "#E5ECF6",
              "width": 0.5
             },
             "pattern": {
              "fillmode": "overlay",
              "size": 10,
              "solidity": 0.2
             }
            },
            "type": "barpolar"
           }
          ],
          "carpet": [
           {
            "aaxis": {
             "endlinecolor": "#2a3f5f",
             "gridcolor": "white",
             "linecolor": "white",
             "minorgridcolor": "white",
             "startlinecolor": "#2a3f5f"
            },
            "baxis": {
             "endlinecolor": "#2a3f5f",
             "gridcolor": "white",
             "linecolor": "white",
             "minorgridcolor": "white",
             "startlinecolor": "#2a3f5f"
            },
            "type": "carpet"
           }
          ],
          "choropleth": [
           {
            "colorbar": {
             "outlinewidth": 0,
             "ticks": ""
            },
            "type": "choropleth"
           }
          ],
          "contour": [
           {
            "colorbar": {
             "outlinewidth": 0,
             "ticks": ""
            },
            "colorscale": [
             [
              0,
              "#0d0887"
             ],
             [
              0.1111111111111111,
              "#46039f"
             ],
             [
              0.2222222222222222,
              "#7201a8"
             ],
             [
              0.3333333333333333,
              "#9c179e"
             ],
             [
              0.4444444444444444,
              "#bd3786"
             ],
             [
              0.5555555555555556,
              "#d8576b"
             ],
             [
              0.6666666666666666,
              "#ed7953"
             ],
             [
              0.7777777777777778,
              "#fb9f3a"
             ],
             [
              0.8888888888888888,
              "#fdca26"
             ],
             [
              1,
              "#f0f921"
             ]
            ],
            "type": "contour"
           }
          ],
          "contourcarpet": [
           {
            "colorbar": {
             "outlinewidth": 0,
             "ticks": ""
            },
            "type": "contourcarpet"
           }
          ],
          "heatmap": [
           {
            "colorbar": {
             "outlinewidth": 0,
             "ticks": ""
            },
            "colorscale": [
             [
              0,
              "#0d0887"
             ],
             [
              0.1111111111111111,
              "#46039f"
             ],
             [
              0.2222222222222222,
              "#7201a8"
             ],
             [
              0.3333333333333333,
              "#9c179e"
             ],
             [
              0.4444444444444444,
              "#bd3786"
             ],
             [
              0.5555555555555556,
              "#d8576b"
             ],
             [
              0.6666666666666666,
              "#ed7953"
             ],
             [
              0.7777777777777778,
              "#fb9f3a"
             ],
             [
              0.8888888888888888,
              "#fdca26"
             ],
             [
              1,
              "#f0f921"
             ]
            ],
            "type": "heatmap"
           }
          ],
          "heatmapgl": [
           {
            "colorbar": {
             "outlinewidth": 0,
             "ticks": ""
            },
            "colorscale": [
             [
              0,
              "#0d0887"
             ],
             [
              0.1111111111111111,
              "#46039f"
             ],
             [
              0.2222222222222222,
              "#7201a8"
             ],
             [
              0.3333333333333333,
              "#9c179e"
             ],
             [
              0.4444444444444444,
              "#bd3786"
             ],
             [
              0.5555555555555556,
              "#d8576b"
             ],
             [
              0.6666666666666666,
              "#ed7953"
             ],
             [
              0.7777777777777778,
              "#fb9f3a"
             ],
             [
              0.8888888888888888,
              "#fdca26"
             ],
             [
              1,
              "#f0f921"
             ]
            ],
            "type": "heatmapgl"
           }
          ],
          "histogram": [
           {
            "marker": {
             "pattern": {
              "fillmode": "overlay",
              "size": 10,
              "solidity": 0.2
             }
            },
            "type": "histogram"
           }
          ],
          "histogram2d": [
           {
            "colorbar": {
             "outlinewidth": 0,
             "ticks": ""
            },
            "colorscale": [
             [
              0,
              "#0d0887"
             ],
             [
              0.1111111111111111,
              "#46039f"
             ],
             [
              0.2222222222222222,
              "#7201a8"
             ],
             [
              0.3333333333333333,
              "#9c179e"
             ],
             [
              0.4444444444444444,
              "#bd3786"
             ],
             [
              0.5555555555555556,
              "#d8576b"
             ],
             [
              0.6666666666666666,
              "#ed7953"
             ],
             [
              0.7777777777777778,
              "#fb9f3a"
             ],
             [
              0.8888888888888888,
              "#fdca26"
             ],
             [
              1,
              "#f0f921"
             ]
            ],
            "type": "histogram2d"
           }
          ],
          "histogram2dcontour": [
           {
            "colorbar": {
             "outlinewidth": 0,
             "ticks": ""
            },
            "colorscale": [
             [
              0,
              "#0d0887"
             ],
             [
              0.1111111111111111,
              "#46039f"
             ],
             [
              0.2222222222222222,
              "#7201a8"
             ],
             [
              0.3333333333333333,
              "#9c179e"
             ],
             [
              0.4444444444444444,
              "#bd3786"
             ],
             [
              0.5555555555555556,
              "#d8576b"
             ],
             [
              0.6666666666666666,
              "#ed7953"
             ],
             [
              0.7777777777777778,
              "#fb9f3a"
             ],
             [
              0.8888888888888888,
              "#fdca26"
             ],
             [
              1,
              "#f0f921"
             ]
            ],
            "type": "histogram2dcontour"
           }
          ],
          "mesh3d": [
           {
            "colorbar": {
             "outlinewidth": 0,
             "ticks": ""
            },
            "type": "mesh3d"
           }
          ],
          "parcoords": [
           {
            "line": {
             "colorbar": {
              "outlinewidth": 0,
              "ticks": ""
             }
            },
            "type": "parcoords"
           }
          ],
          "pie": [
           {
            "automargin": true,
            "type": "pie"
           }
          ],
          "scatter": [
           {
            "marker": {
             "colorbar": {
              "outlinewidth": 0,
              "ticks": ""
             }
            },
            "type": "scatter"
           }
          ],
          "scatter3d": [
           {
            "line": {
             "colorbar": {
              "outlinewidth": 0,
              "ticks": ""
             }
            },
            "marker": {
             "colorbar": {
              "outlinewidth": 0,
              "ticks": ""
             }
            },
            "type": "scatter3d"
           }
          ],
          "scattercarpet": [
           {
            "marker": {
             "colorbar": {
              "outlinewidth": 0,
              "ticks": ""
             }
            },
            "type": "scattercarpet"
           }
          ],
          "scattergeo": [
           {
            "marker": {
             "colorbar": {
              "outlinewidth": 0,
              "ticks": ""
             }
            },
            "type": "scattergeo"
           }
          ],
          "scattergl": [
           {
            "marker": {
             "colorbar": {
              "outlinewidth": 0,
              "ticks": ""
             }
            },
            "type": "scattergl"
           }
          ],
          "scattermapbox": [
           {
            "marker": {
             "colorbar": {
              "outlinewidth": 0,
              "ticks": ""
             }
            },
            "type": "scattermapbox"
           }
          ],
          "scatterpolar": [
           {
            "marker": {
             "colorbar": {
              "outlinewidth": 0,
              "ticks": ""
             }
            },
            "type": "scatterpolar"
           }
          ],
          "scatterpolargl": [
           {
            "marker": {
             "colorbar": {
              "outlinewidth": 0,
              "ticks": ""
             }
            },
            "type": "scatterpolargl"
           }
          ],
          "scatterternary": [
           {
            "marker": {
             "colorbar": {
              "outlinewidth": 0,
              "ticks": ""
             }
            },
            "type": "scatterternary"
           }
          ],
          "surface": [
           {
            "colorbar": {
             "outlinewidth": 0,
             "ticks": ""
            },
            "colorscale": [
             [
              0,
              "#0d0887"
             ],
             [
              0.1111111111111111,
              "#46039f"
             ],
             [
              0.2222222222222222,
              "#7201a8"
             ],
             [
              0.3333333333333333,
              "#9c179e"
             ],
             [
              0.4444444444444444,
              "#bd3786"
             ],
             [
              0.5555555555555556,
              "#d8576b"
             ],
             [
              0.6666666666666666,
              "#ed7953"
             ],
             [
              0.7777777777777778,
              "#fb9f3a"
             ],
             [
              0.8888888888888888,
              "#fdca26"
             ],
             [
              1,
              "#f0f921"
             ]
            ],
            "type": "surface"
           }
          ],
          "table": [
           {
            "cells": {
             "fill": {
              "color": "#EBF0F8"
             },
             "line": {
              "color": "white"
             }
            },
            "header": {
             "fill": {
              "color": "#C8D4E3"
             },
             "line": {
              "color": "white"
             }
            },
            "type": "table"
           }
          ]
         },
         "layout": {
          "annotationdefaults": {
           "arrowcolor": "#2a3f5f",
           "arrowhead": 0,
           "arrowwidth": 1
          },
          "autotypenumbers": "strict",
          "coloraxis": {
           "colorbar": {
            "outlinewidth": 0,
            "ticks": ""
           }
          },
          "colorscale": {
           "diverging": [
            [
             0,
             "#8e0152"
            ],
            [
             0.1,
             "#c51b7d"
            ],
            [
             0.2,
             "#de77ae"
            ],
            [
             0.3,
             "#f1b6da"
            ],
            [
             0.4,
             "#fde0ef"
            ],
            [
             0.5,
             "#f7f7f7"
            ],
            [
             0.6,
             "#e6f5d0"
            ],
            [
             0.7,
             "#b8e186"
            ],
            [
             0.8,
             "#7fbc41"
            ],
            [
             0.9,
             "#4d9221"
            ],
            [
             1,
             "#276419"
            ]
           ],
           "sequential": [
            [
             0,
             "#0d0887"
            ],
            [
             0.1111111111111111,
             "#46039f"
            ],
            [
             0.2222222222222222,
             "#7201a8"
            ],
            [
             0.3333333333333333,
             "#9c179e"
            ],
            [
             0.4444444444444444,
             "#bd3786"
            ],
            [
             0.5555555555555556,
             "#d8576b"
            ],
            [
             0.6666666666666666,
             "#ed7953"
            ],
            [
             0.7777777777777778,
             "#fb9f3a"
            ],
            [
             0.8888888888888888,
             "#fdca26"
            ],
            [
             1,
             "#f0f921"
            ]
           ],
           "sequentialminus": [
            [
             0,
             "#0d0887"
            ],
            [
             0.1111111111111111,
             "#46039f"
            ],
            [
             0.2222222222222222,
             "#7201a8"
            ],
            [
             0.3333333333333333,
             "#9c179e"
            ],
            [
             0.4444444444444444,
             "#bd3786"
            ],
            [
             0.5555555555555556,
             "#d8576b"
            ],
            [
             0.6666666666666666,
             "#ed7953"
            ],
            [
             0.7777777777777778,
             "#fb9f3a"
            ],
            [
             0.8888888888888888,
             "#fdca26"
            ],
            [
             1,
             "#f0f921"
            ]
           ]
          },
          "colorway": [
           "#636efa",
           "#EF553B",
           "#00cc96",
           "#ab63fa",
           "#FFA15A",
           "#19d3f3",
           "#FF6692",
           "#B6E880",
           "#FF97FF",
           "#FECB52"
          ],
          "font": {
           "color": "#2a3f5f"
          },
          "geo": {
           "bgcolor": "white",
           "lakecolor": "white",
           "landcolor": "#E5ECF6",
           "showlakes": true,
           "showland": true,
           "subunitcolor": "white"
          },
          "hoverlabel": {
           "align": "left"
          },
          "hovermode": "closest",
          "mapbox": {
           "style": "light"
          },
          "paper_bgcolor": "white",
          "plot_bgcolor": "#E5ECF6",
          "polar": {
           "angularaxis": {
            "gridcolor": "white",
            "linecolor": "white",
            "ticks": ""
           },
           "bgcolor": "#E5ECF6",
           "radialaxis": {
            "gridcolor": "white",
            "linecolor": "white",
            "ticks": ""
           }
          },
          "scene": {
           "xaxis": {
            "backgroundcolor": "#E5ECF6",
            "gridcolor": "white",
            "gridwidth": 2,
            "linecolor": "white",
            "showbackground": true,
            "ticks": "",
            "zerolinecolor": "white"
           },
           "yaxis": {
            "backgroundcolor": "#E5ECF6",
            "gridcolor": "white",
            "gridwidth": 2,
            "linecolor": "white",
            "showbackground": true,
            "ticks": "",
            "zerolinecolor": "white"
           },
           "zaxis": {
            "backgroundcolor": "#E5ECF6",
            "gridcolor": "white",
            "gridwidth": 2,
            "linecolor": "white",
            "showbackground": true,
            "ticks": "",
            "zerolinecolor": "white"
           }
          },
          "shapedefaults": {
           "line": {
            "color": "#2a3f5f"
           }
          },
          "ternary": {
           "aaxis": {
            "gridcolor": "white",
            "linecolor": "white",
            "ticks": ""
           },
           "baxis": {
            "gridcolor": "white",
            "linecolor": "white",
            "ticks": ""
           },
           "bgcolor": "#E5ECF6",
           "caxis": {
            "gridcolor": "white",
            "linecolor": "white",
            "ticks": ""
           }
          },
          "title": {
           "x": 0.05
          },
          "xaxis": {
           "automargin": true,
           "gridcolor": "white",
           "linecolor": "white",
           "ticks": "",
           "title": {
            "standoff": 15
           },
           "zerolinecolor": "white",
           "zerolinewidth": 2
          },
          "yaxis": {
           "automargin": true,
           "gridcolor": "white",
           "linecolor": "white",
           "ticks": "",
           "title": {
            "standoff": 15
           },
           "zerolinecolor": "white",
           "zerolinewidth": 2
          }
         }
        },
        "title": {
         "text": "Most Common Words"
        },
        "xaxis": {
         "anchor": "y",
         "domain": [
          0,
          1
         ],
         "title": {
          "text": "word"
         }
        },
        "yaxis": {
         "anchor": "x",
         "domain": [
          0,
          1
         ],
         "title": {
          "text": "frequency"
         }
        }
       }
      },
      "text/html": [
       "<div>                            <div id=\"e3051fb8-476a-4238-a9d0-795990a4c1ed\" class=\"plotly-graph-div\" style=\"height:525px; width:100%;\"></div>            <script type=\"text/javascript\">                require([\"plotly\"], function(Plotly) {                    window.PLOTLYENV=window.PLOTLYENV || {};                                    if (document.getElementById(\"e3051fb8-476a-4238-a9d0-795990a4c1ed\")) {                    Plotly.newPlot(                        \"e3051fb8-476a-4238-a9d0-795990a4c1ed\",                        [{\"alignmentgroup\":\"True\",\"hovertemplate\":\"word=%{x}<br>frequency=%{y}<extra></extra>\",\"legendgroup\":\"\",\"marker\":{\"color\":\"#636efa\",\"pattern\":{\"shape\":\"\"}},\"name\":\"\",\"offsetgroup\":\"\",\"orientation\":\"v\",\"showlegend\":false,\"textposition\":\"auto\",\"x\":[\"vaccine\",\"co\",\"vaccines\",\"trump\",\"flu\",\"get\",\"people\",\"us\",\"trials\",\"via\",\"trial\",\"would\",\"one\",\"virus\",\"like\",\"health\",\"says\",\"fda\",\"take\",\"going\",\"new\",\"could\",\"year\",\"first\",\"know\",\"need\",\"news\",\"plan\",\"still\",\"u\",\"realdonaldtrump\",\"may\",\"immunity\",\"safe\",\"time\",\"available\",\"even\",\"said\",\"world\",\"free\",\"everyone\",\"public\",\"pandemic\",\"say\",\"make\",\"pfizer\",\"think\",\"effective\",\"distribution\",\"johnson\"],\"xaxis\":\"x\",\"y\":[28211,20151,5938,3724,3498,3264,2888,2089,2002,1962,1734,1722,1556,1523,1487,1485,1449,1390,1366,1338,1311,1307,1279,1237,1221,1194,1189,1181,1168,1158,1136,1110,1069,1067,1066,1040,1037,1010,991,960,945,925,914,913,887,883,854,852,850,829],\"yaxis\":\"y\",\"type\":\"bar\"}],                        {\"template\":{\"data\":{\"bar\":[{\"error_x\":{\"color\":\"#2a3f5f\"},\"error_y\":{\"color\":\"#2a3f5f\"},\"marker\":{\"line\":{\"color\":\"#E5ECF6\",\"width\":0.5},\"pattern\":{\"fillmode\":\"overlay\",\"size\":10,\"solidity\":0.2}},\"type\":\"bar\"}],\"barpolar\":[{\"marker\":{\"line\":{\"color\":\"#E5ECF6\",\"width\":0.5},\"pattern\":{\"fillmode\":\"overlay\",\"size\":10,\"solidity\":0.2}},\"type\":\"barpolar\"}],\"carpet\":[{\"aaxis\":{\"endlinecolor\":\"#2a3f5f\",\"gridcolor\":\"white\",\"linecolor\":\"white\",\"minorgridcolor\":\"white\",\"startlinecolor\":\"#2a3f5f\"},\"baxis\":{\"endlinecolor\":\"#2a3f5f\",\"gridcolor\":\"white\",\"linecolor\":\"white\",\"minorgridcolor\":\"white\",\"startlinecolor\":\"#2a3f5f\"},\"type\":\"carpet\"}],\"choropleth\":[{\"colorbar\":{\"outlinewidth\":0,\"ticks\":\"\"},\"type\":\"choropleth\"}],\"contour\":[{\"colorbar\":{\"outlinewidth\":0,\"ticks\":\"\"},\"colorscale\":[[0.0,\"#0d0887\"],[0.1111111111111111,\"#46039f\"],[0.2222222222222222,\"#7201a8\"],[0.3333333333333333,\"#9c179e\"],[0.4444444444444444,\"#bd3786\"],[0.5555555555555556,\"#d8576b\"],[0.6666666666666666,\"#ed7953\"],[0.7777777777777778,\"#fb9f3a\"],[0.8888888888888888,\"#fdca26\"],[1.0,\"#f0f921\"]],\"type\":\"contour\"}],\"contourcarpet\":[{\"colorbar\":{\"outlinewidth\":0,\"ticks\":\"\"},\"type\":\"contourcarpet\"}],\"heatmap\":[{\"colorbar\":{\"outlinewidth\":0,\"ticks\":\"\"},\"colorscale\":[[0.0,\"#0d0887\"],[0.1111111111111111,\"#46039f\"],[0.2222222222222222,\"#7201a8\"],[0.3333333333333333,\"#9c179e\"],[0.4444444444444444,\"#bd3786\"],[0.5555555555555556,\"#d8576b\"],[0.6666666666666666,\"#ed7953\"],[0.7777777777777778,\"#fb9f3a\"],[0.8888888888888888,\"#fdca26\"],[1.0,\"#f0f921\"]],\"type\":\"heatmap\"}],\"heatmapgl\":[{\"colorbar\":{\"outlinewidth\":0,\"ticks\":\"\"},\"colorscale\":[[0.0,\"#0d0887\"],[0.1111111111111111,\"#46039f\"],[0.2222222222222222,\"#7201a8\"],[0.3333333333333333,\"#9c179e\"],[0.4444444444444444,\"#bd3786\"],[0.5555555555555556,\"#d8576b\"],[0.6666666666666666,\"#ed7953\"],[0.7777777777777778,\"#fb9f3a\"],[0.8888888888888888,\"#fdca26\"],[1.0,\"#f0f921\"]],\"type\":\"heatmapgl\"}],\"histogram\":[{\"marker\":{\"pattern\":{\"fillmode\":\"overlay\",\"size\":10,\"solidity\":0.2}},\"type\":\"histogram\"}],\"histogram2d\":[{\"colorbar\":{\"outlinewidth\":0,\"ticks\":\"\"},\"colorscale\":[[0.0,\"#0d0887\"],[0.1111111111111111,\"#46039f\"],[0.2222222222222222,\"#7201a8\"],[0.3333333333333333,\"#9c179e\"],[0.4444444444444444,\"#bd3786\"],[0.5555555555555556,\"#d8576b\"],[0.6666666666666666,\"#ed7953\"],[0.7777777777777778,\"#fb9f3a\"],[0.8888888888888888,\"#fdca26\"],[1.0,\"#f0f921\"]],\"type\":\"histogram2d\"}],\"histogram2dcontour\":[{\"colorbar\":{\"outlinewidth\":0,\"ticks\":\"\"},\"colorscale\":[[0.0,\"#0d0887\"],[0.1111111111111111,\"#46039f\"],[0.2222222222222222,\"#7201a8\"],[0.3333333333333333,\"#9c179e\"],[0.4444444444444444,\"#bd3786\"],[0.5555555555555556,\"#d8576b\"],[0.6666666666666666,\"#ed7953\"],[0.7777777777777778,\"#fb9f3a\"],[0.8888888888888888,\"#fdca26\"],[1.0,\"#f0f921\"]],\"type\":\"histogram2dcontour\"}],\"mesh3d\":[{\"colorbar\":{\"outlinewidth\":0,\"ticks\":\"\"},\"type\":\"mesh3d\"}],\"parcoords\":[{\"line\":{\"colorbar\":{\"outlinewidth\":0,\"ticks\":\"\"}},\"type\":\"parcoords\"}],\"pie\":[{\"automargin\":true,\"type\":\"pie\"}],\"scatter\":[{\"marker\":{\"colorbar\":{\"outlinewidth\":0,\"ticks\":\"\"}},\"type\":\"scatter\"}],\"scatter3d\":[{\"line\":{\"colorbar\":{\"outlinewidth\":0,\"ticks\":\"\"}},\"marker\":{\"colorbar\":{\"outlinewidth\":0,\"ticks\":\"\"}},\"type\":\"scatter3d\"}],\"scattercarpet\":[{\"marker\":{\"colorbar\":{\"outlinewidth\":0,\"ticks\":\"\"}},\"type\":\"scattercarpet\"}],\"scattergeo\":[{\"marker\":{\"colorbar\":{\"outlinewidth\":0,\"ticks\":\"\"}},\"type\":\"scattergeo\"}],\"scattergl\":[{\"marker\":{\"colorbar\":{\"outlinewidth\":0,\"ticks\":\"\"}},\"type\":\"scattergl\"}],\"scattermapbox\":[{\"marker\":{\"colorbar\":{\"outlinewidth\":0,\"ticks\":\"\"}},\"type\":\"scattermapbox\"}],\"scatterpolar\":[{\"marker\":{\"colorbar\":{\"outlinewidth\":0,\"ticks\":\"\"}},\"type\":\"scatterpolar\"}],\"scatterpolargl\":[{\"marker\":{\"colorbar\":{\"outlinewidth\":0,\"ticks\":\"\"}},\"type\":\"scatterpolargl\"}],\"scatterternary\":[{\"marker\":{\"colorbar\":{\"outlinewidth\":0,\"ticks\":\"\"}},\"type\":\"scatterternary\"}],\"surface\":[{\"colorbar\":{\"outlinewidth\":0,\"ticks\":\"\"},\"colorscale\":[[0.0,\"#0d0887\"],[0.1111111111111111,\"#46039f\"],[0.2222222222222222,\"#7201a8\"],[0.3333333333333333,\"#9c179e\"],[0.4444444444444444,\"#bd3786\"],[0.5555555555555556,\"#d8576b\"],[0.6666666666666666,\"#ed7953\"],[0.7777777777777778,\"#fb9f3a\"],[0.8888888888888888,\"#fdca26\"],[1.0,\"#f0f921\"]],\"type\":\"surface\"}],\"table\":[{\"cells\":{\"fill\":{\"color\":\"#EBF0F8\"},\"line\":{\"color\":\"white\"}},\"header\":{\"fill\":{\"color\":\"#C8D4E3\"},\"line\":{\"color\":\"white\"}},\"type\":\"table\"}]},\"layout\":{\"annotationdefaults\":{\"arrowcolor\":\"#2a3f5f\",\"arrowhead\":0,\"arrowwidth\":1},\"autotypenumbers\":\"strict\",\"coloraxis\":{\"colorbar\":{\"outlinewidth\":0,\"ticks\":\"\"}},\"colorscale\":{\"diverging\":[[0,\"#8e0152\"],[0.1,\"#c51b7d\"],[0.2,\"#de77ae\"],[0.3,\"#f1b6da\"],[0.4,\"#fde0ef\"],[0.5,\"#f7f7f7\"],[0.6,\"#e6f5d0\"],[0.7,\"#b8e186\"],[0.8,\"#7fbc41\"],[0.9,\"#4d9221\"],[1,\"#276419\"]],\"sequential\":[[0.0,\"#0d0887\"],[0.1111111111111111,\"#46039f\"],[0.2222222222222222,\"#7201a8\"],[0.3333333333333333,\"#9c179e\"],[0.4444444444444444,\"#bd3786\"],[0.5555555555555556,\"#d8576b\"],[0.6666666666666666,\"#ed7953\"],[0.7777777777777778,\"#fb9f3a\"],[0.8888888888888888,\"#fdca26\"],[1.0,\"#f0f921\"]],\"sequentialminus\":[[0.0,\"#0d0887\"],[0.1111111111111111,\"#46039f\"],[0.2222222222222222,\"#7201a8\"],[0.3333333333333333,\"#9c179e\"],[0.4444444444444444,\"#bd3786\"],[0.5555555555555556,\"#d8576b\"],[0.6666666666666666,\"#ed7953\"],[0.7777777777777778,\"#fb9f3a\"],[0.8888888888888888,\"#fdca26\"],[1.0,\"#f0f921\"]]},\"colorway\":[\"#636efa\",\"#EF553B\",\"#00cc96\",\"#ab63fa\",\"#FFA15A\",\"#19d3f3\",\"#FF6692\",\"#B6E880\",\"#FF97FF\",\"#FECB52\"],\"font\":{\"color\":\"#2a3f5f\"},\"geo\":{\"bgcolor\":\"white\",\"lakecolor\":\"white\",\"landcolor\":\"#E5ECF6\",\"showlakes\":true,\"showland\":true,\"subunitcolor\":\"white\"},\"hoverlabel\":{\"align\":\"left\"},\"hovermode\":\"closest\",\"mapbox\":{\"style\":\"light\"},\"paper_bgcolor\":\"white\",\"plot_bgcolor\":\"#E5ECF6\",\"polar\":{\"angularaxis\":{\"gridcolor\":\"white\",\"linecolor\":\"white\",\"ticks\":\"\"},\"bgcolor\":\"#E5ECF6\",\"radialaxis\":{\"gridcolor\":\"white\",\"linecolor\":\"white\",\"ticks\":\"\"}},\"scene\":{\"xaxis\":{\"backgroundcolor\":\"#E5ECF6\",\"gridcolor\":\"white\",\"gridwidth\":2,\"linecolor\":\"white\",\"showbackground\":true,\"ticks\":\"\",\"zerolinecolor\":\"white\"},\"yaxis\":{\"backgroundcolor\":\"#E5ECF6\",\"gridcolor\":\"white\",\"gridwidth\":2,\"linecolor\":\"white\",\"showbackground\":true,\"ticks\":\"\",\"zerolinecolor\":\"white\"},\"zaxis\":{\"backgroundcolor\":\"#E5ECF6\",\"gridcolor\":\"white\",\"gridwidth\":2,\"linecolor\":\"white\",\"showbackground\":true,\"ticks\":\"\",\"zerolinecolor\":\"white\"}},\"shapedefaults\":{\"line\":{\"color\":\"#2a3f5f\"}},\"ternary\":{\"aaxis\":{\"gridcolor\":\"white\",\"linecolor\":\"white\",\"ticks\":\"\"},\"baxis\":{\"gridcolor\":\"white\",\"linecolor\":\"white\",\"ticks\":\"\"},\"bgcolor\":\"#E5ECF6\",\"caxis\":{\"gridcolor\":\"white\",\"linecolor\":\"white\",\"ticks\":\"\"}},\"title\":{\"x\":0.05},\"xaxis\":{\"automargin\":true,\"gridcolor\":\"white\",\"linecolor\":\"white\",\"ticks\":\"\",\"title\":{\"standoff\":15},\"zerolinecolor\":\"white\",\"zerolinewidth\":2},\"yaxis\":{\"automargin\":true,\"gridcolor\":\"white\",\"linecolor\":\"white\",\"ticks\":\"\",\"title\":{\"standoff\":15},\"zerolinecolor\":\"white\",\"zerolinewidth\":2}}},\"xaxis\":{\"anchor\":\"y\",\"domain\":[0.0,1.0],\"title\":{\"text\":\"word\"}},\"yaxis\":{\"anchor\":\"x\",\"domain\":[0.0,1.0],\"title\":{\"text\":\"frequency\"}},\"legend\":{\"tracegroupgap\":0},\"title\":{\"text\":\"Most Common Words\"},\"barmode\":\"relative\"},                        {\"responsive\": true}                    ).then(function(){\n",
       "                            \n",
       "var gd = document.getElementById('e3051fb8-476a-4238-a9d0-795990a4c1ed');\n",
       "var x = new MutationObserver(function (mutations, observer) {{\n",
       "        var display = window.getComputedStyle(gd).display;\n",
       "        if (!display || display === 'none') {{\n",
       "            console.log([gd, 'removed!']);\n",
       "            Plotly.purge(gd);\n",
       "            observer.disconnect();\n",
       "        }}\n",
       "}});\n",
       "\n",
       "// Listen for the removal of the full notebook cells\n",
       "var notebookContainer = gd.closest('#notebook-container');\n",
       "if (notebookContainer) {{\n",
       "    x.observe(notebookContainer, {childList: true});\n",
       "}}\n",
       "\n",
       "// Listen for the clearing of the current output cell\n",
       "var outputEl = gd.closest('.output');\n",
       "if (outputEl) {{\n",
       "    x.observe(outputEl, {childList: true});\n",
       "}}\n",
       "\n",
       "                        })                };                });            </script>        </div>"
      ]
     },
     "metadata": {},
     "output_type": "display_data"
    }
   ],
   "source": [
    "word_counts = Counter(word_list).most_common(50)\n",
    "words_df = pd.DataFrame(word_counts)\n",
    "words_df.columns = ['word', 'frequency']\n",
    "\n",
    "px.bar(words_df, x='word', y='frequency', title='Most Common Words')"
   ]
  },
  {
   "cell_type": "markdown",
   "metadata": {},
   "source": [
    "## Join Table"
   ]
  },
  {
   "cell_type": "markdown",
   "metadata": {},
   "source": [
    "Since we are done with the processing of the text data, we can now put the cleaned text into our main dataframe."
   ]
  },
  {
   "cell_type": "code",
   "execution_count": 32,
   "metadata": {
    "execution": {
     "iopub.execute_input": "2021-10-24T11:11:40.527664Z",
     "iopub.status.busy": "2021-10-24T11:11:40.527394Z",
     "iopub.status.idle": "2021-10-24T11:11:40.550705Z",
     "shell.execute_reply": "2021-10-24T11:11:40.549640Z",
     "shell.execute_reply.started": "2021-10-24T11:11:40.527628Z"
    }
   },
   "outputs": [
    {
     "data": {
      "text/html": [
       "<div>\n",
       "<style scoped>\n",
       "    .dataframe tbody tr th:only-of-type {\n",
       "        vertical-align: middle;\n",
       "    }\n",
       "\n",
       "    .dataframe tbody tr th {\n",
       "        vertical-align: top;\n",
       "    }\n",
       "\n",
       "    .dataframe thead th {\n",
       "        text-align: right;\n",
       "    }\n",
       "</style>\n",
       "<table border=\"1\" class=\"dataframe\">\n",
       "  <thead>\n",
       "    <tr style=\"text-align: right;\">\n",
       "      <th></th>\n",
       "      <th>Datetime</th>\n",
       "      <th>Text</th>\n",
       "      <th>Location</th>\n",
       "      <th>tweet</th>\n",
       "      <th>text</th>\n",
       "    </tr>\n",
       "  </thead>\n",
       "  <tbody>\n",
       "    <tr>\n",
       "      <th>0</th>\n",
       "      <td>2020-10-30</td>\n",
       "      <td>1/2 This is what I said way back in March. Gla...</td>\n",
       "      <td>Treaty 7 Land</td>\n",
       "      <td>This is what I said way back in March  Gla...</td>\n",
       "      <td>said way back march glad see research gaining ...</td>\n",
       "    </tr>\n",
       "    <tr>\n",
       "      <th>1</th>\n",
       "      <td>2020-10-30</td>\n",
       "      <td>@KCBlues_ @hann4hlew We wait until the vaccine...</td>\n",
       "      <td>Stratford-Upon-Avon, England</td>\n",
       "      <td>KCBlues   hann hlew We wait until the vaccine...</td>\n",
       "      <td>kcblues hann hlew wait vaccine solution come l...</td>\n",
       "    </tr>\n",
       "    <tr>\n",
       "      <th>2</th>\n",
       "      <td>2020-10-30</td>\n",
       "      <td>Everyone we talk to are not discussing COVID, ...</td>\n",
       "      <td>NaN</td>\n",
       "      <td>Everyone we talk to are not discussing COVID  ...</td>\n",
       "      <td>everyone talk discussing discussing economy po...</td>\n",
       "    </tr>\n",
       "    <tr>\n",
       "      <th>3</th>\n",
       "      <td>2020-10-30</td>\n",
       "      <td>Considering Emotion in COVID-19 Vaccine Commun...</td>\n",
       "      <td>Fayetteville, AR</td>\n",
       "      <td>Considering Emotion in COVID    Vaccine Commun...</td>\n",
       "      <td>considering emotion vaccine communication addr...</td>\n",
       "    </tr>\n",
       "    <tr>\n",
       "      <th>4</th>\n",
       "      <td>2020-10-30</td>\n",
       "      <td>@realDonaldTrump Did we shut down the entire c...</td>\n",
       "      <td>NaN</td>\n",
       "      <td>realDonaldTrump Did we shut down the entire c...</td>\n",
       "      <td>realdonaldtrump shut entire country flatten cu...</td>\n",
       "    </tr>\n",
       "  </tbody>\n",
       "</table>\n",
       "</div>"
      ],
      "text/plain": [
       "     Datetime                                               Text  \\\n",
       "0  2020-10-30  1/2 This is what I said way back in March. Gla...   \n",
       "1  2020-10-30  @KCBlues_ @hann4hlew We wait until the vaccine...   \n",
       "2  2020-10-30  Everyone we talk to are not discussing COVID, ...   \n",
       "3  2020-10-30  Considering Emotion in COVID-19 Vaccine Commun...   \n",
       "4  2020-10-30  @realDonaldTrump Did we shut down the entire c...   \n",
       "\n",
       "                       Location  \\\n",
       "0                 Treaty 7 Land   \n",
       "1  Stratford-Upon-Avon, England   \n",
       "2                           NaN   \n",
       "3              Fayetteville, AR   \n",
       "4                           NaN   \n",
       "\n",
       "                                               tweet  \\\n",
       "0      This is what I said way back in March  Gla...   \n",
       "1   KCBlues   hann hlew We wait until the vaccine...   \n",
       "2  Everyone we talk to are not discussing COVID  ...   \n",
       "3  Considering Emotion in COVID    Vaccine Commun...   \n",
       "4   realDonaldTrump Did we shut down the entire c...   \n",
       "\n",
       "                                                text  \n",
       "0  said way back march glad see research gaining ...  \n",
       "1  kcblues hann hlew wait vaccine solution come l...  \n",
       "2  everyone talk discussing discussing economy po...  \n",
       "3  considering emotion vaccine communication addr...  \n",
       "4  realdonaldtrump shut entire country flatten cu...  "
      ]
     },
     "execution_count": 32,
     "metadata": {},
     "output_type": "execute_result"
    }
   ],
   "source": [
    "df['text'] = texts_rs\n",
    "df.head()"
   ]
  },
  {
   "cell_type": "code",
   "execution_count": 33,
   "metadata": {
    "execution": {
     "iopub.execute_input": "2021-10-24T11:11:49.222117Z",
     "iopub.status.busy": "2021-10-24T11:11:49.221261Z",
     "iopub.status.idle": "2021-10-24T11:11:49.331703Z",
     "shell.execute_reply": "2021-10-24T11:11:49.325110Z",
     "shell.execute_reply.started": "2021-10-24T11:11:49.222078Z"
    }
   },
   "outputs": [
    {
     "name": "stdout",
     "output_type": "stream",
     "text": [
      "<class 'pandas.core.frame.DataFrame'>\n",
      "RangeIndex: 30030 entries, 0 to 30029\n",
      "Data columns (total 5 columns):\n",
      " #   Column    Non-Null Count  Dtype \n",
      "---  ------    --------------  ----- \n",
      " 0   Datetime  30030 non-null  object\n",
      " 1   Text      30030 non-null  object\n",
      " 2   Location  21272 non-null  object\n",
      " 3   tweet     30030 non-null  object\n",
      " 4   text      30030 non-null  object\n",
      "dtypes: object(5)\n",
      "memory usage: 1.1+ MB\n"
     ]
    }
   ],
   "source": [
    "df.info()"
   ]
  },
  {
   "cell_type": "markdown",
   "metadata": {},
   "source": [
    "Now we see that the date here is still in string type. For our analysis, we need to convert it into datetime data type. Also, to limit  our analysis, we will only be taking tweets from march 1st, 2021. "
   ]
  },
  {
   "cell_type": "markdown",
   "metadata": {},
   "source": [
    "## Sentiment Analysis "
   ]
  },
  {
   "cell_type": "markdown",
   "metadata": {},
   "source": [
    "Now that we have finished preparing the data for our analysis, we can continue to with our sentiment analysis. Sentiment Analysis can be organized into neutral, positive, or negative sentiment. To find out, we will be using SentimentIntensityAnalyzer, which will rate whether the tweet containt positive, negative, or neutral sentiment. "
   ]
  },
  {
   "cell_type": "code",
   "execution_count": 34,
   "metadata": {
    "execution": {
     "iopub.execute_input": "2021-10-24T11:12:13.323862Z",
     "iopub.status.busy": "2021-10-24T11:12:13.323587Z",
     "iopub.status.idle": "2021-10-24T11:12:45.404406Z",
     "shell.execute_reply": "2021-10-24T11:12:45.403674Z",
     "shell.execute_reply.started": "2021-10-24T11:12:13.323831Z"
    }
   },
   "outputs": [
    {
     "data": {
      "text/plain": [
       "0        {'neg': 0.0, 'neu': 0.592, 'pos': 0.408, 'comp...\n",
       "1        {'neg': 0.134, 'neu': 0.788, 'pos': 0.079, 'co...\n",
       "2        {'neg': 0.102, 'neu': 0.779, 'pos': 0.119, 'co...\n",
       "3        {'neg': 0.204, 'neu': 0.639, 'pos': 0.157, 'co...\n",
       "4        {'neg': 0.0, 'neu': 0.891, 'pos': 0.109, 'comp...\n",
       "                               ...                        \n",
       "30025    {'neg': 0.0, 'neu': 0.741, 'pos': 0.259, 'comp...\n",
       "30026    {'neg': 0.0, 'neu': 1.0, 'pos': 0.0, 'compound...\n",
       "30027    {'neg': 0.13, 'neu': 0.339, 'pos': 0.531, 'com...\n",
       "30028    {'neg': 0.0, 'neu': 1.0, 'pos': 0.0, 'compound...\n",
       "30029    {'neg': 0.0, 'neu': 1.0, 'pos': 0.0, 'compound...\n",
       "Name: text, Length: 30030, dtype: object"
      ]
     },
     "execution_count": 34,
     "metadata": {},
     "output_type": "execute_result"
    }
   ],
   "source": [
    "sid = SentimentIntensityAnalyzer()\n",
    "ps = lambda x : sid.polarity_scores(x)\n",
    "sentiment_scores = df.text.apply(ps)\n",
    "sentiment_scores"
   ]
  },
  {
   "cell_type": "code",
   "execution_count": 35,
   "metadata": {
    "execution": {
     "iopub.execute_input": "2021-10-24T11:13:10.664367Z",
     "iopub.status.busy": "2021-10-24T11:13:10.664082Z",
     "iopub.status.idle": "2021-10-24T11:13:10.952832Z",
     "shell.execute_reply": "2021-10-24T11:13:10.951884Z",
     "shell.execute_reply.started": "2021-10-24T11:13:10.664339Z"
    }
   },
   "outputs": [
    {
     "data": {
      "text/html": [
       "<div>\n",
       "<style scoped>\n",
       "    .dataframe tbody tr th:only-of-type {\n",
       "        vertical-align: middle;\n",
       "    }\n",
       "\n",
       "    .dataframe tbody tr th {\n",
       "        vertical-align: top;\n",
       "    }\n",
       "\n",
       "    .dataframe thead th {\n",
       "        text-align: right;\n",
       "    }\n",
       "</style>\n",
       "<table border=\"1\" class=\"dataframe\">\n",
       "  <thead>\n",
       "    <tr style=\"text-align: right;\">\n",
       "      <th></th>\n",
       "      <th>neg</th>\n",
       "      <th>neu</th>\n",
       "      <th>pos</th>\n",
       "      <th>compound</th>\n",
       "    </tr>\n",
       "  </thead>\n",
       "  <tbody>\n",
       "    <tr>\n",
       "      <th>0</th>\n",
       "      <td>0.000</td>\n",
       "      <td>0.592</td>\n",
       "      <td>0.408</td>\n",
       "      <td>0.9201</td>\n",
       "    </tr>\n",
       "    <tr>\n",
       "      <th>1</th>\n",
       "      <td>0.134</td>\n",
       "      <td>0.788</td>\n",
       "      <td>0.079</td>\n",
       "      <td>-0.3818</td>\n",
       "    </tr>\n",
       "    <tr>\n",
       "      <th>2</th>\n",
       "      <td>0.102</td>\n",
       "      <td>0.779</td>\n",
       "      <td>0.119</td>\n",
       "      <td>0.1027</td>\n",
       "    </tr>\n",
       "    <tr>\n",
       "      <th>3</th>\n",
       "      <td>0.204</td>\n",
       "      <td>0.639</td>\n",
       "      <td>0.157</td>\n",
       "      <td>-0.1280</td>\n",
       "    </tr>\n",
       "    <tr>\n",
       "      <th>4</th>\n",
       "      <td>0.000</td>\n",
       "      <td>0.891</td>\n",
       "      <td>0.109</td>\n",
       "      <td>0.4019</td>\n",
       "    </tr>\n",
       "  </tbody>\n",
       "</table>\n",
       "</div>"
      ],
      "text/plain": [
       "     neg    neu    pos  compound\n",
       "0  0.000  0.592  0.408    0.9201\n",
       "1  0.134  0.788  0.079   -0.3818\n",
       "2  0.102  0.779  0.119    0.1027\n",
       "3  0.204  0.639  0.157   -0.1280\n",
       "4  0.000  0.891  0.109    0.4019"
      ]
     },
     "execution_count": 35,
     "metadata": {},
     "output_type": "execute_result"
    }
   ],
   "source": [
    "sentiment_df = pd.DataFrame(data = list(sentiment_scores))\n",
    "sentiment_df.head()"
   ]
  },
  {
   "cell_type": "markdown",
   "metadata": {},
   "source": [
    "We can see that there is neg for negative sentiment, neu for neutral sentiment, pos for positive sentiment, and compound as the average rate of the sentiment. We will focused on the compound. \n",
    "\n",
    "For negative sentiment, the compound score will be closer to -1, and the opposite goes for the positive sentiment, which will be closer to 1. Neutral sentiment will be a 0. \n",
    "\n",
    "For our analysis, we will create another column called label, where we will be labelling the scores based on the compound polarity value. "
   ]
  },
  {
   "cell_type": "code",
   "execution_count": 36,
   "metadata": {
    "execution": {
     "iopub.execute_input": "2021-10-24T11:13:33.857427Z",
     "iopub.status.busy": "2021-10-24T11:13:33.856898Z",
     "iopub.status.idle": "2021-10-24T11:13:33.940161Z",
     "shell.execute_reply": "2021-10-24T11:13:33.939491Z",
     "shell.execute_reply.started": "2021-10-24T11:13:33.857391Z"
    }
   },
   "outputs": [
    {
     "data": {
      "text/html": [
       "<div>\n",
       "<style scoped>\n",
       "    .dataframe tbody tr th:only-of-type {\n",
       "        vertical-align: middle;\n",
       "    }\n",
       "\n",
       "    .dataframe tbody tr th {\n",
       "        vertical-align: top;\n",
       "    }\n",
       "\n",
       "    .dataframe thead th {\n",
       "        text-align: right;\n",
       "    }\n",
       "</style>\n",
       "<table border=\"1\" class=\"dataframe\">\n",
       "  <thead>\n",
       "    <tr style=\"text-align: right;\">\n",
       "      <th></th>\n",
       "      <th>neg</th>\n",
       "      <th>neu</th>\n",
       "      <th>pos</th>\n",
       "      <th>compound</th>\n",
       "      <th>label</th>\n",
       "    </tr>\n",
       "  </thead>\n",
       "  <tbody>\n",
       "    <tr>\n",
       "      <th>0</th>\n",
       "      <td>0.000</td>\n",
       "      <td>0.592</td>\n",
       "      <td>0.408</td>\n",
       "      <td>0.9201</td>\n",
       "      <td>positive</td>\n",
       "    </tr>\n",
       "    <tr>\n",
       "      <th>1</th>\n",
       "      <td>0.134</td>\n",
       "      <td>0.788</td>\n",
       "      <td>0.079</td>\n",
       "      <td>-0.3818</td>\n",
       "      <td>negative</td>\n",
       "    </tr>\n",
       "    <tr>\n",
       "      <th>2</th>\n",
       "      <td>0.102</td>\n",
       "      <td>0.779</td>\n",
       "      <td>0.119</td>\n",
       "      <td>0.1027</td>\n",
       "      <td>positive</td>\n",
       "    </tr>\n",
       "    <tr>\n",
       "      <th>3</th>\n",
       "      <td>0.204</td>\n",
       "      <td>0.639</td>\n",
       "      <td>0.157</td>\n",
       "      <td>-0.1280</td>\n",
       "      <td>negative</td>\n",
       "    </tr>\n",
       "    <tr>\n",
       "      <th>4</th>\n",
       "      <td>0.000</td>\n",
       "      <td>0.891</td>\n",
       "      <td>0.109</td>\n",
       "      <td>0.4019</td>\n",
       "      <td>positive</td>\n",
       "    </tr>\n",
       "  </tbody>\n",
       "</table>\n",
       "</div>"
      ],
      "text/plain": [
       "     neg    neu    pos  compound     label\n",
       "0  0.000  0.592  0.408    0.9201  positive\n",
       "1  0.134  0.788  0.079   -0.3818  negative\n",
       "2  0.102  0.779  0.119    0.1027  positive\n",
       "3  0.204  0.639  0.157   -0.1280  negative\n",
       "4  0.000  0.891  0.109    0.4019  positive"
      ]
     },
     "execution_count": 36,
     "metadata": {},
     "output_type": "execute_result"
    }
   ],
   "source": [
    "labelize = lambda x : 'neutral' if x==0 else('positive' if x>0 else 'negative')\n",
    "sentiment_df['label'] = sentiment_df.compound.apply(labelize)\n",
    "sentiment_df.head()"
   ]
  },
  {
   "cell_type": "markdown",
   "metadata": {},
   "source": [
    "Now that we have the label for each tweet, we will join the label column into our main dataframe. Once we have joined the two tables, we will be counting the number of positive, negative, and neutral tweets from our dataframe and visualize it. "
   ]
  },
  {
   "cell_type": "code",
   "execution_count": 37,
   "metadata": {
    "execution": {
     "iopub.execute_input": "2021-10-24T11:13:40.252539Z",
     "iopub.status.busy": "2021-10-24T11:13:40.251843Z",
     "iopub.status.idle": "2021-10-24T11:13:40.293931Z",
     "shell.execute_reply": "2021-10-24T11:13:40.293273Z",
     "shell.execute_reply.started": "2021-10-24T11:13:40.252505Z"
    }
   },
   "outputs": [
    {
     "data": {
      "text/html": [
       "<div>\n",
       "<style scoped>\n",
       "    .dataframe tbody tr th:only-of-type {\n",
       "        vertical-align: middle;\n",
       "    }\n",
       "\n",
       "    .dataframe tbody tr th {\n",
       "        vertical-align: top;\n",
       "    }\n",
       "\n",
       "    .dataframe thead th {\n",
       "        text-align: right;\n",
       "    }\n",
       "</style>\n",
       "<table border=\"1\" class=\"dataframe\">\n",
       "  <thead>\n",
       "    <tr style=\"text-align: right;\">\n",
       "      <th></th>\n",
       "      <th>Datetime</th>\n",
       "      <th>Text</th>\n",
       "      <th>Location</th>\n",
       "      <th>tweet</th>\n",
       "      <th>text</th>\n",
       "      <th>label</th>\n",
       "    </tr>\n",
       "  </thead>\n",
       "  <tbody>\n",
       "    <tr>\n",
       "      <th>0</th>\n",
       "      <td>2020-10-30</td>\n",
       "      <td>1/2 This is what I said way back in March. Gla...</td>\n",
       "      <td>Treaty 7 Land</td>\n",
       "      <td>This is what I said way back in March  Gla...</td>\n",
       "      <td>said way back march glad see research gaining ...</td>\n",
       "      <td>positive</td>\n",
       "    </tr>\n",
       "    <tr>\n",
       "      <th>1</th>\n",
       "      <td>2020-10-30</td>\n",
       "      <td>@KCBlues_ @hann4hlew We wait until the vaccine...</td>\n",
       "      <td>Stratford-Upon-Avon, England</td>\n",
       "      <td>KCBlues   hann hlew We wait until the vaccine...</td>\n",
       "      <td>kcblues hann hlew wait vaccine solution come l...</td>\n",
       "      <td>negative</td>\n",
       "    </tr>\n",
       "    <tr>\n",
       "      <th>2</th>\n",
       "      <td>2020-10-30</td>\n",
       "      <td>Everyone we talk to are not discussing COVID, ...</td>\n",
       "      <td>NaN</td>\n",
       "      <td>Everyone we talk to are not discussing COVID  ...</td>\n",
       "      <td>everyone talk discussing discussing economy po...</td>\n",
       "      <td>positive</td>\n",
       "    </tr>\n",
       "    <tr>\n",
       "      <th>3</th>\n",
       "      <td>2020-10-30</td>\n",
       "      <td>Considering Emotion in COVID-19 Vaccine Commun...</td>\n",
       "      <td>Fayetteville, AR</td>\n",
       "      <td>Considering Emotion in COVID    Vaccine Commun...</td>\n",
       "      <td>considering emotion vaccine communication addr...</td>\n",
       "      <td>negative</td>\n",
       "    </tr>\n",
       "    <tr>\n",
       "      <th>4</th>\n",
       "      <td>2020-10-30</td>\n",
       "      <td>@realDonaldTrump Did we shut down the entire c...</td>\n",
       "      <td>NaN</td>\n",
       "      <td>realDonaldTrump Did we shut down the entire c...</td>\n",
       "      <td>realdonaldtrump shut entire country flatten cu...</td>\n",
       "      <td>positive</td>\n",
       "    </tr>\n",
       "  </tbody>\n",
       "</table>\n",
       "</div>"
      ],
      "text/plain": [
       "     Datetime                                               Text  \\\n",
       "0  2020-10-30  1/2 This is what I said way back in March. Gla...   \n",
       "1  2020-10-30  @KCBlues_ @hann4hlew We wait until the vaccine...   \n",
       "2  2020-10-30  Everyone we talk to are not discussing COVID, ...   \n",
       "3  2020-10-30  Considering Emotion in COVID-19 Vaccine Commun...   \n",
       "4  2020-10-30  @realDonaldTrump Did we shut down the entire c...   \n",
       "\n",
       "                       Location  \\\n",
       "0                 Treaty 7 Land   \n",
       "1  Stratford-Upon-Avon, England   \n",
       "2                           NaN   \n",
       "3              Fayetteville, AR   \n",
       "4                           NaN   \n",
       "\n",
       "                                               tweet  \\\n",
       "0      This is what I said way back in March  Gla...   \n",
       "1   KCBlues   hann hlew We wait until the vaccine...   \n",
       "2  Everyone we talk to are not discussing COVID  ...   \n",
       "3  Considering Emotion in COVID    Vaccine Commun...   \n",
       "4   realDonaldTrump Did we shut down the entire c...   \n",
       "\n",
       "                                                text     label  \n",
       "0  said way back march glad see research gaining ...  positive  \n",
       "1  kcblues hann hlew wait vaccine solution come l...  negative  \n",
       "2  everyone talk discussing discussing economy po...  positive  \n",
       "3  considering emotion vaccine communication addr...  negative  \n",
       "4  realdonaldtrump shut entire country flatten cu...  positive  "
      ]
     },
     "execution_count": 37,
     "metadata": {},
     "output_type": "execute_result"
    }
   ],
   "source": [
    "data = df.join(sentiment_df.label)\n",
    "data.head()"
   ]
  },
  {
   "cell_type": "code",
   "execution_count": 38,
   "metadata": {
    "execution": {
     "iopub.execute_input": "2021-10-24T11:13:45.027530Z",
     "iopub.status.busy": "2021-10-24T11:13:45.027265Z",
     "iopub.status.idle": "2021-10-24T11:13:45.076474Z",
     "shell.execute_reply": "2021-10-24T11:13:45.075685Z",
     "shell.execute_reply.started": "2021-10-24T11:13:45.027502Z"
    }
   },
   "outputs": [
    {
     "data": {
      "text/html": [
       "<div>\n",
       "<style scoped>\n",
       "    .dataframe tbody tr th:only-of-type {\n",
       "        vertical-align: middle;\n",
       "    }\n",
       "\n",
       "    .dataframe tbody tr th {\n",
       "        vertical-align: top;\n",
       "    }\n",
       "\n",
       "    .dataframe thead th {\n",
       "        text-align: right;\n",
       "    }\n",
       "</style>\n",
       "<table border=\"1\" class=\"dataframe\">\n",
       "  <thead>\n",
       "    <tr style=\"text-align: right;\">\n",
       "      <th></th>\n",
       "      <th>index</th>\n",
       "      <th>label</th>\n",
       "    </tr>\n",
       "  </thead>\n",
       "  <tbody>\n",
       "    <tr>\n",
       "      <th>0</th>\n",
       "      <td>positive</td>\n",
       "      <td>13401</td>\n",
       "    </tr>\n",
       "    <tr>\n",
       "      <th>1</th>\n",
       "      <td>negative</td>\n",
       "      <td>9380</td>\n",
       "    </tr>\n",
       "    <tr>\n",
       "      <th>2</th>\n",
       "      <td>neutral</td>\n",
       "      <td>7249</td>\n",
       "    </tr>\n",
       "  </tbody>\n",
       "</table>\n",
       "</div>"
      ],
      "text/plain": [
       "      index  label\n",
       "0  positive  13401\n",
       "1  negative   9380\n",
       "2   neutral   7249"
      ]
     },
     "execution_count": 38,
     "metadata": {},
     "output_type": "execute_result"
    }
   ],
   "source": [
    "counts_df = data.label.value_counts().reset_index()\n",
    "counts_df"
   ]
  },
  {
   "cell_type": "code",
   "execution_count": 39,
   "metadata": {
    "execution": {
     "iopub.execute_input": "2021-10-24T11:13:52.322488Z",
     "iopub.status.busy": "2021-10-24T11:13:52.321681Z",
     "iopub.status.idle": "2021-10-24T11:13:52.536274Z",
     "shell.execute_reply": "2021-10-24T11:13:52.535637Z",
     "shell.execute_reply.started": "2021-10-24T11:13:52.322453Z"
    }
   },
   "outputs": [
    {
     "data": {
      "text/plain": [
       "<AxesSubplot:xlabel='index', ylabel='label'>"
      ]
     },
     "execution_count": 39,
     "metadata": {},
     "output_type": "execute_result"
    },
    {
     "data": {
      "image/png": "[encoded data removed]",
      "text/plain": [
       "<Figure size 432x288 with 1 Axes>"
      ]
     },
     "metadata": {},
     "output_type": "display_data"
    }
   ],
   "source": [
    "sns.barplot(data=counts_df, x='index', y='label')"
   ]
  },
  {
   "cell_type": "markdown",
   "metadata": {},
   "source": [
    "We can see that mostly, the tweets about the vaccines is neutral, and with more positive than negative. But the visualization that we see is from the total tweets from march to september 2021. \n",
    "\n",
    "For closer analyzation, we will see the number of positive, negative, and neutral tweets dialy from march 2021. "
   ]
  },
  {
   "cell_type": "code",
   "execution_count": 40,
   "metadata": {},
   "outputs": [],
   "source": [
    "data.to_csv('sentiment_oct.csv',index=False)"
   ]
  },
  {
   "cell_type": "code",
   "execution_count": 32,
   "metadata": {},
   "outputs": [],
   "source": []
  },
  {
   "cell_type": "code",
   "execution_count": null,
   "metadata": {},
   "outputs": [],
   "source": []
  }
 ],
 "metadata": {
  "kernelspec": {
   "display_name": "Python 3",
   "language": "python",
   "name": "python3"
  },
  "language_info": {
   "codemirror_mode": {
    "name": "ipython",
    "version": 3
   },
   "file_extension": ".py",
   "mimetype": "text/x-python",
   "name": "python",
   "nbconvert_exporter": "python",
   "pygments_lexer": "ipython3",
   "version": "3.8.8"
  }
 },
 "nbformat": 4,
 "nbformat_minor": 4
}
