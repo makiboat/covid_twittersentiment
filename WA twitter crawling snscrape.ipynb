{
 "cells": [
  {
   "cell_type": "code",
   "execution_count": 1,
   "id": "31af1e49",
   "metadata": {},
   "outputs": [],
   "source": [
    "import snscrape.modules.twitter as sntwitter\n",
    "import pandas as pd"
   ]
  },
  {
   "cell_type": "markdown",
   "id": "e0cf204e",
   "metadata": {},
   "source": [
    "### By search"
   ]
  },
  {
   "cell_type": "code",
   "execution_count": 2,
   "id": "8278829c",
   "metadata": {},
   "outputs": [],
   "source": [
    "# Setting variables to be used below\n",
    "maxTweets = 1000\n",
    "\n",
    "# Creating list to append tweet data to\n",
    "tweets_list2 = []\n",
    "\n",
    "# Using TwitterSearchScraper to scrape data and append tweets to list\n",
    "for i,tweet in enumerate(sntwitter.TwitterSearchScraper('covid vaccine until:2021-03-07').get_items()):\n",
    "    if i>maxTweets:\n",
    "        break\n",
    "    tweets_list2.append([tweet.date, tweet.content, tweet.user.location])"
   ]
  },
  {
   "cell_type": "code",
   "execution_count": 3,
   "id": "e19deabd",
   "metadata": {},
   "outputs": [],
   "source": [
    "# other day\n",
    "for i,tweet in enumerate(sntwitter.TwitterSearchScraper('covid vaccine until:2021-03-06').get_items()):\n",
    "    if i>maxTweets:\n",
    "        break\n",
    "    tweets_list2.append([tweet.date, tweet.content, tweet.user.location])\n",
    "# other day\n",
    "for i,tweet in enumerate(sntwitter.TwitterSearchScraper('covid vaccine until:2021-03-05').get_items()):\n",
    "    if i>maxTweets:\n",
    "        break\n",
    "    tweets_list2.append([tweet.date, tweet.content, tweet.user.location])"
   ]
  },
  {
   "cell_type": "code",
   "execution_count": 4,
   "id": "f1f7f377",
   "metadata": {},
   "outputs": [],
   "source": [
    "for i,tweet in enumerate(sntwitter.TwitterSearchScraper('covid vaccine until:2021-03-04').get_items()):\n",
    "    if i>maxTweets:\n",
    "        break\n",
    "    tweets_list2.append([tweet.date, tweet.content, tweet.user.location])\n",
    "    # other day\n",
    "for i,tweet in enumerate(sntwitter.TwitterSearchScraper('covid vaccine until:2021-03-03').get_items()):\n",
    "    if i>maxTweets:\n",
    "        break\n",
    "    tweets_list2.append([tweet.date, tweet.content, tweet.user.location])\n",
    "    # other day\n",
    "for i,tweet in enumerate(sntwitter.TwitterSearchScraper('covid vaccine until:2021-03-02').get_items()):\n",
    "    if i>maxTweets:\n",
    "        break\n",
    "    tweets_list2.append([tweet.date, tweet.content, tweet.user.location])"
   ]
  },
  {
   "cell_type": "code",
   "execution_count": 5,
   "id": "0133fcfc",
   "metadata": {},
   "outputs": [],
   "source": [
    "# other day\n",
    "for i,tweet in enumerate(sntwitter.TwitterSearchScraper('covid vaccine until:2021-03-15').get_items()):\n",
    "    if i>maxTweets:\n",
    "        break\n",
    "    tweets_list2.append([tweet.date, tweet.content, tweet.user.location])\n",
    "    # other day"
   ]
  },
  {
   "cell_type": "code",
   "execution_count": 6,
   "id": "0b07db09",
   "metadata": {},
   "outputs": [],
   "source": [
    "for i,tweet in enumerate(sntwitter.TwitterSearchScraper('covid vaccine until:2021-03-16').get_items()):\n",
    "    if i>maxTweets:\n",
    "        break\n",
    "    tweets_list2.append([tweet.date, tweet.content, tweet.user.location])\n",
    "    # other day"
   ]
  },
  {
   "cell_type": "code",
   "execution_count": 7,
   "id": "e0277a27",
   "metadata": {},
   "outputs": [],
   "source": [
    "for i,tweet in enumerate(sntwitter.TwitterSearchScraper('covid vaccine until:2021-03-17').get_items()):\n",
    "    if i>maxTweets:\n",
    "        break\n",
    "    tweets_list2.append([tweet.date, tweet.content, tweet.user.location])"
   ]
  },
  {
   "cell_type": "code",
   "execution_count": 8,
   "id": "5c984f8b",
   "metadata": {},
   "outputs": [],
   "source": [
    "for i,tweet in enumerate(sntwitter.TwitterSearchScraper('covid vaccine until:2021-03-18').get_items()):\n",
    "    if i>maxTweets:\n",
    "        break\n",
    "    tweets_list2.append([tweet.date, tweet.content, tweet.user.location])\n",
    "    # other day"
   ]
  },
  {
   "cell_type": "code",
   "execution_count": 9,
   "id": "0a587aeb",
   "metadata": {},
   "outputs": [],
   "source": [
    "for i,tweet in enumerate(sntwitter.TwitterSearchScraper('covid vaccine until:2021-03-19').get_items()):\n",
    "    if i>maxTweets:\n",
    "        break\n",
    "    tweets_list2.append([tweet.date, tweet.content, tweet.user.location])\n",
    "    # other day\n",
    "for i,tweet in enumerate(sntwitter.TwitterSearchScraper('covid vaccine until:2021-03-20').get_items()):\n",
    "    if i>maxTweets:\n",
    "        break\n",
    "    tweets_list2.append([tweet.date, tweet.content, tweet.user.location])"
   ]
  },
  {
   "cell_type": "code",
   "execution_count": 11,
   "id": "d32de09e",
   "metadata": {},
   "outputs": [],
   "source": [
    "# other day\n",
    "for i,tweet in enumerate(sntwitter.TwitterSearchScraper('covid vaccine until:2021-03-21').get_items()):\n",
    "    if i>maxTweets:\n",
    "        break\n",
    "    tweets_list2.append([tweet.date, tweet.content, tweet.user.location])\n",
    "    # other day\n",
    "for i,tweet in enumerate(sntwitter.TwitterSearchScraper('covid vaccine until:2021-03-22').get_items()):\n",
    "    if i>maxTweets:\n",
    "        break\n",
    "    tweets_list2.append([tweet.date, tweet.content, tweet.user.location])\n",
    "    # other day"
   ]
  },
  {
   "cell_type": "code",
   "execution_count": 12,
   "id": "f1e34264",
   "metadata": {},
   "outputs": [],
   "source": [
    "for i,tweet in enumerate(sntwitter.TwitterSearchScraper('covid vaccine until:2021-03-23').get_items()):\n",
    "    if i>maxTweets:\n",
    "        break\n",
    "    tweets_list2.append([tweet.date, tweet.content, tweet.user.location])\n",
    "for i,tweet in enumerate(sntwitter.TwitterSearchScraper('covid vaccine until:2021-03-24').get_items()):\n",
    "    if i>maxTweets:\n",
    "        break\n",
    "    tweets_list2.append([tweet.date, tweet.content, tweet.user.location])\n",
    "# day\n",
    "for i,tweet in enumerate(sntwitter.TwitterSearchScraper('covid vaccine until:2021-03-25').get_items()):\n",
    "    if i>maxTweets:\n",
    "        break\n",
    "    tweets_list2.append([tweet.date, tweet.content, tweet.user.location])"
   ]
  },
  {
   "cell_type": "code",
   "execution_count": 13,
   "id": "593cd604",
   "metadata": {},
   "outputs": [],
   "source": [
    "# day\n",
    "for i,tweet in enumerate(sntwitter.TwitterSearchScraper('covid vaccine until:2021-03-26').get_items()):\n",
    "    if i>maxTweets:\n",
    "        break\n",
    "    tweets_list2.append([tweet.date, tweet.content, tweet.user.location])\n",
    "for i,tweet in enumerate(sntwitter.TwitterSearchScraper('covid vaccine until:2021-03-27').get_items()):\n",
    "    if i>maxTweets:\n",
    "        break\n",
    "    tweets_list2.append([tweet.date, tweet.content, tweet.user.location])"
   ]
  },
  {
   "cell_type": "code",
   "execution_count": 14,
   "id": "883fbf80",
   "metadata": {},
   "outputs": [],
   "source": [
    "for i,tweet in enumerate(sntwitter.TwitterSearchScraper('covid vaccine until:2021-03-28').get_items()):\n",
    "    if i>maxTweets:\n",
    "        break\n",
    "    tweets_list2.append([tweet.date, tweet.content, tweet.user.location])\n",
    "    # day\n"
   ]
  },
  {
   "cell_type": "code",
   "execution_count": 15,
   "id": "69cde29c",
   "metadata": {},
   "outputs": [],
   "source": [
    "for i,tweet in enumerate(sntwitter.TwitterSearchScraper('covid vaccine until:2021-03-29').get_items()):\n",
    "    if i>maxTweets:\n",
    "        break\n",
    "    tweets_list2.append([tweet.date, tweet.content, tweet.user.location])\n",
    "    # day\n"
   ]
  },
  {
   "cell_type": "code",
   "execution_count": 16,
   "id": "c0167f0a",
   "metadata": {},
   "outputs": [],
   "source": [
    "for i,tweet in enumerate(sntwitter.TwitterSearchScraper('covid vaccine until:2021-03-30').get_items()):\n",
    "    if i>maxTweets:\n",
    "        break\n",
    "    tweets_list2.append([tweet.date, tweet.content, tweet.user.location])\n",
    "    # day\n",
    "for i,tweet in enumerate(sntwitter.TwitterSearchScraper('covid vaccine until:2021-03-31').get_items()):\n",
    "    if i>maxTweets:\n",
    "        break\n",
    "    tweets_list2.append([tweet.date, tweet.content, tweet.user.location])"
   ]
  },
  {
   "cell_type": "code",
   "execution_count": null,
   "id": "444322de",
   "metadata": {},
   "outputs": [],
   "source": []
  },
  {
   "cell_type": "code",
   "execution_count": null,
   "id": "6c396da6",
   "metadata": {},
   "outputs": [],
   "source": [
    "# day\n",
    "for i,tweet in enumerate(sntwitter.TwitterSearchScraper('covid vaccine until:2020-10-10').get_items()):\n",
    "    if i>maxTweets:\n",
    "        break\n",
    "    tweets_list2.append([tweet.date, tweet.content, tweet.user.location])\n",
    "    # day\n",
    "for i,tweet in enumerate(sntwitter.TwitterSearchScraper('covid vaccine until:2020-10-09').get_items()):\n",
    "    if i>maxTweets:\n",
    "        break\n",
    "    tweets_list2.append([tweet.date, tweet.content, tweet.user.location])\n",
    "    # day\n",
    "for i,tweet in enumerate(sntwitter.TwitterSearchScraper('covid vaccine until:2020-10-08').get_items()):\n",
    "    if i>maxTweets:\n",
    "        break\n",
    "    tweets_list2.append([tweet.date, tweet.content, tweet.user.location])\n",
    "    # day"
   ]
  },
  {
   "cell_type": "code",
   "execution_count": null,
   "id": "4a67e005",
   "metadata": {},
   "outputs": [],
   "source": [
    "for i,tweet in enumerate(sntwitter.TwitterSearchScraper('covid vaccine until:2020-10-07').get_items()):\n",
    "    if i>maxTweets:\n",
    "        break\n",
    "    tweets_list2.append([tweet.date, tweet.content, tweet.user.location])\n",
    "    # day\n",
    "for i,tweet in enumerate(sntwitter.TwitterSearchScraper('covid vaccine until:2020-10-06').get_items()):\n",
    "    if i>maxTweets:\n",
    "        break\n",
    "    tweets_list2.append([tweet.date, tweet.content, tweet.user.location])\n",
    "    # day\n",
    "for i,tweet in enumerate(sntwitter.TwitterSearchScraper('covid vaccine until:2020-10-05').get_items()):\n",
    "    if i>maxTweets:\n",
    "        break\n",
    "    tweets_list2.append([tweet.date, tweet.content, tweet.user.location])"
   ]
  },
  {
   "cell_type": "code",
   "execution_count": null,
   "id": "6f9789c6",
   "metadata": {},
   "outputs": [],
   "source": [
    "for i,tweet in enumerate(sntwitter.TwitterSearchScraper('covid vaccine until:2020-10-04').get_items()):\n",
    "    if i>maxTweets:\n",
    "        break\n",
    "    tweets_list2.append([tweet.date, tweet.content, tweet.user.location])\n",
    "    # day\n",
    "for i,tweet in enumerate(sntwitter.TwitterSearchScraper('covid vaccine until:2020-10-03').get_items()):\n",
    "    if i>maxTweets:\n",
    "        break\n",
    "    tweets_list2.append([tweet.date, tweet.content, tweet.user.location])\n",
    "# day\n",
    "for i,tweet in enumerate(sntwitter.TwitterSearchScraper('covid vaccine until:2020-10-02').get_items()):\n",
    "    if i>maxTweets:\n",
    "        break\n",
    "    tweets_list2.append([tweet.date, tweet.content, tweet.user.location])"
   ]
  },
  {
   "cell_type": "code",
   "execution_count": 18,
   "id": "832d9062",
   "metadata": {},
   "outputs": [
    {
     "data": {
      "text/html": [
       "<div>\n",
       "<style scoped>\n",
       "    .dataframe tbody tr th:only-of-type {\n",
       "        vertical-align: middle;\n",
       "    }\n",
       "\n",
       "    .dataframe tbody tr th {\n",
       "        vertical-align: top;\n",
       "    }\n",
       "\n",
       "    .dataframe thead th {\n",
       "        text-align: right;\n",
       "    }\n",
       "</style>\n",
       "<table border=\"1\" class=\"dataframe\">\n",
       "  <thead>\n",
       "    <tr style=\"text-align: right;\">\n",
       "      <th></th>\n",
       "      <th>Datetime</th>\n",
       "      <th>Text</th>\n",
       "      <th>Location</th>\n",
       "    </tr>\n",
       "  </thead>\n",
       "  <tbody>\n",
       "    <tr>\n",
       "      <th>0</th>\n",
       "      <td>2021-03-06 23:59:51+00:00</td>\n",
       "      <td>#Florida #CovidVaccine https://t.co/67DbWzTFRx</td>\n",
       "      <td></td>\n",
       "    </tr>\n",
       "    <tr>\n",
       "      <th>1</th>\n",
       "      <td>2021-03-06 23:59:48+00:00</td>\n",
       "      <td>@VJappi @MrDomFree After. Not because. Those d...</td>\n",
       "      <td>Ma Patrie est l'Humanité</td>\n",
       "    </tr>\n",
       "    <tr>\n",
       "      <th>2</th>\n",
       "      <td>2021-03-06 23:59:47+00:00</td>\n",
       "      <td>FYI. Swelling in lymph nodes under the arm or ...</td>\n",
       "      <td>Chicago Suburbs</td>\n",
       "    </tr>\n",
       "    <tr>\n",
       "      <th>3</th>\n",
       "      <td>2021-03-06 23:59:38+00:00</td>\n",
       "      <td>@FatEmperor Looks like a massive land grab und...</td>\n",
       "      <td>Ireland</td>\n",
       "    </tr>\n",
       "    <tr>\n",
       "      <th>4</th>\n",
       "      <td>2021-03-06 23:59:36+00:00</td>\n",
       "      <td>Got the #CovidVaccine Getting the vaccine is a...</td>\n",
       "      <td>Houston, Texas, USA</td>\n",
       "    </tr>\n",
       "    <tr>\n",
       "      <th>...</th>\n",
       "      <td>...</td>\n",
       "      <td>...</td>\n",
       "      <td>...</td>\n",
       "    </tr>\n",
       "    <tr>\n",
       "      <th>23018</th>\n",
       "      <td>2021-03-30 23:23:38+00:00</td>\n",
       "      <td>Man's Skin Burns, Swells, Then Peels Off in Se...</td>\n",
       "      <td>NorthWest, USA</td>\n",
       "    </tr>\n",
       "    <tr>\n",
       "      <th>23019</th>\n",
       "      <td>2021-03-30 23:23:38+00:00</td>\n",
       "      <td>Those that are 16 and older in Colorado are el...</td>\n",
       "      <td>coloRADo</td>\n",
       "    </tr>\n",
       "    <tr>\n",
       "      <th>23020</th>\n",
       "      <td>2021-03-30 23:23:38+00:00</td>\n",
       "      <td>@igorjrr Due to recent updates, some customers...</td>\n",
       "      <td>Deerfield, IL</td>\n",
       "    </tr>\n",
       "    <tr>\n",
       "      <th>23021</th>\n",
       "      <td>2021-03-30 23:23:37+00:00</td>\n",
       "      <td>@zScvrp Well The vaccine doesn’t give you 100%...</td>\n",
       "      <td>Over there</td>\n",
       "    </tr>\n",
       "    <tr>\n",
       "      <th>23022</th>\n",
       "      <td>2021-03-30 23:23:37+00:00</td>\n",
       "      <td>My prediction for the next twitter covid trend...</td>\n",
       "      <td></td>\n",
       "    </tr>\n",
       "  </tbody>\n",
       "</table>\n",
       "<p>23023 rows × 3 columns</p>\n",
       "</div>"
      ],
      "text/plain": [
       "                       Datetime  \\\n",
       "0     2021-03-06 23:59:51+00:00   \n",
       "1     2021-03-06 23:59:48+00:00   \n",
       "2     2021-03-06 23:59:47+00:00   \n",
       "3     2021-03-06 23:59:38+00:00   \n",
       "4     2021-03-06 23:59:36+00:00   \n",
       "...                         ...   \n",
       "23018 2021-03-30 23:23:38+00:00   \n",
       "23019 2021-03-30 23:23:38+00:00   \n",
       "23020 2021-03-30 23:23:38+00:00   \n",
       "23021 2021-03-30 23:23:37+00:00   \n",
       "23022 2021-03-30 23:23:37+00:00   \n",
       "\n",
       "                                                    Text  \\\n",
       "0         #Florida #CovidVaccine https://t.co/67DbWzTFRx   \n",
       "1      @VJappi @MrDomFree After. Not because. Those d...   \n",
       "2      FYI. Swelling in lymph nodes under the arm or ...   \n",
       "3      @FatEmperor Looks like a massive land grab und...   \n",
       "4      Got the #CovidVaccine Getting the vaccine is a...   \n",
       "...                                                  ...   \n",
       "23018  Man's Skin Burns, Swells, Then Peels Off in Se...   \n",
       "23019  Those that are 16 and older in Colorado are el...   \n",
       "23020  @igorjrr Due to recent updates, some customers...   \n",
       "23021  @zScvrp Well The vaccine doesn’t give you 100%...   \n",
       "23022  My prediction for the next twitter covid trend...   \n",
       "\n",
       "                       Location  \n",
       "0                                \n",
       "1      Ma Patrie est l'Humanité  \n",
       "2               Chicago Suburbs  \n",
       "3                       Ireland  \n",
       "4           Houston, Texas, USA  \n",
       "...                         ...  \n",
       "23018            NorthWest, USA  \n",
       "23019                  coloRADo  \n",
       "23020             Deerfield, IL  \n",
       "23021                Over there  \n",
       "23022                            \n",
       "\n",
       "[23023 rows x 3 columns]"
      ]
     },
     "execution_count": 18,
     "metadata": {},
     "output_type": "execute_result"
    }
   ],
   "source": [
    "# Creating a dataframe from the tweets list above\n",
    "tweets_df2 = pd.DataFrame(tweets_list2, columns=['Datetime', 'Text', 'Location'])\n",
    "\n",
    "# Display first 5 entries from dataframe\n",
    "tweets_df2"
   ]
  },
  {
   "cell_type": "code",
   "execution_count": 19,
   "id": "ad03254e",
   "metadata": {},
   "outputs": [],
   "source": [
    "tweets_df2.to_csv(\"tweets_2021.03half.csv\")"
   ]
  },
  {
   "cell_type": "code",
   "execution_count": null,
   "id": "c4e21bd4",
   "metadata": {},
   "outputs": [],
   "source": []
  }
 ],
 "metadata": {
  "kernelspec": {
   "display_name": "Python 3",
   "language": "python",
   "name": "python3"
  },
  "language_info": {
   "codemirror_mode": {
    "name": "ipython",
    "version": 3
   },
   "file_extension": ".py",
   "mimetype": "text/x-python",
   "name": "python",
   "nbconvert_exporter": "python",
   "pygments_lexer": "ipython3",
   "version": "3.8.8"
  }
 },
 "nbformat": 4,
 "nbformat_minor": 5
}
